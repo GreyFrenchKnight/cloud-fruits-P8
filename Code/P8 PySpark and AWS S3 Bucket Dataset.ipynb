{
 "cells": [
  {
   "cell_type": "markdown",
   "id": "811bf501",
   "metadata": {},
   "source": [
    "# P8 Déployer un modèle dans le cloud - Local PySpark and AWS S3 Bucket Dataset "
   ]
  },
  {
   "cell_type": "code",
   "execution_count": 1,
   "id": "677c3c81",
   "metadata": {},
   "outputs": [],
   "source": [
    "import requests\n",
    "\n",
    "import PIL.Image\n",
    "import boto3\n",
    "import requests\n",
    "from tqdm import tqdm\n",
    "\n",
    "import pyspark\n",
    "import numpy as np\n",
    "import torch\n",
    "\n",
    "import os\n",
    "import io\n",
    "from io import BytesIO\n",
    "\n",
    "from pyspark import SparkContext\n",
    "from pyspark.sql import SparkSession\n",
    "from pyspark.sql.types import Row\n",
    "\n",
    "import datetime \n",
    "\n",
    "from encoder import Encoder"
   ]
  },
  {
   "cell_type": "markdown",
   "id": "03d4c8c6",
   "metadata": {},
   "source": [
    "## AWS S3 bucket"
   ]
  },
  {
   "cell_type": "code",
   "execution_count": 2,
   "id": "2ea79050",
   "metadata": {},
   "outputs": [],
   "source": [
    "S3_BUCKET_NAME = 'cloud-fruits-p8-bucket'\n",
    "\n",
    "s3_input_images_to_process_bucket_folder = 'input_images_to_process'\n",
    "\n",
    "s3_output_features_and_images_processed_folder = 'output_features_and_images_processed'\n",
    "s3_output_images_processed_folder = 'images_processed'\n",
    "s3_output_features_to_classify_folder = 'features_to_classify'\n",
    "\n",
    "S3_OUTPUT_FEATURES_PARQUET_FILENAME = \"cloud-fruits-p8-features.parquet\""
   ]
  },
  {
   "cell_type": "markdown",
   "id": "0b9e1cbb",
   "metadata": {},
   "source": [
    "## Read data from input folder"
   ]
  },
  {
   "cell_type": "code",
   "execution_count": 3,
   "id": "8bd087dc",
   "metadata": {},
   "outputs": [
    {
     "name": "stdout",
     "output_type": "stream",
     "text": [
      "... list images from Fruits 360 dataset in AWS S3 bucket input_images_to_process\n",
      "Contains 50 images.\n",
      "['input_images_to_process/Apricot_179_100.jpg', 'input_images_to_process/Apricot_r_108_100.jpg', 'input_images_to_process/Apricot_r_109_100.jpg', 'input_images_to_process/Apricot_r_110_100.jpg', 'input_images_to_process/Apricot_r_111_100.jpg', 'input_images_to_process/Apricot_r_112_100.jpg', 'input_images_to_process/Apricot_r_283_100.jpg', 'input_images_to_process/Apricot_r_284_100.jpg', 'input_images_to_process/Apricot_r_285_100.jpg', 'input_images_to_process/Apricot_r_316_100.jpg', 'input_images_to_process/Apricot_r_318_100.jpg', 'input_images_to_process/Apricot_r_319_100.jpg', 'input_images_to_process/Banana_10_100.jpg', 'input_images_to_process/Banana_11_100.jpg', 'input_images_to_process/Banana_152_100.jpg', 'input_images_to_process/Banana_153_100.jpg', 'input_images_to_process/Banana_154_100.jpg', 'input_images_to_process/Banana_279_100.jpg', 'input_images_to_process/Banana_280_100.jpg', 'input_images_to_process/Banana_282_100.jpg', 'input_images_to_process/Banana_35_100.jpg', 'input_images_to_process/Banana_37_100.jpg', 'input_images_to_process/Banana_r_256_100.jpg', 'input_images_to_process/Banana_r_308_100.jpg', 'input_images_to_process/Banana_r_311_100.jpg', 'input_images_to_process/Banana_r_323_100.jpg', 'input_images_to_process/Kiwi_218_100.jpg', 'input_images_to_process/Kiwi_220_100.jpg', 'input_images_to_process/Kiwi_221_100.jpg', 'input_images_to_process/Kiwi_222_100.jpg', 'input_images_to_process/Kiwi_r_180_100.jpg', 'input_images_to_process/Kiwi_r_182_100.jpg', 'input_images_to_process/Kiwi_r_210_100.jpg', 'input_images_to_process/Kiwi_r_212_100.jpg', 'input_images_to_process/Kiwi_r_213_100.jpg', 'input_images_to_process/Kiwi_r_315_100.jpg', 'input_images_to_process/Kiwi_r_316_100.jpg', 'input_images_to_process/Kiwi_r_317_100.jpg', 'input_images_to_process/Kiwi_r_318_100.jpg', 'input_images_to_process/Raspberry_r_123_100.jpg', 'input_images_to_process/Raspberry_r_124_100.jpg', 'input_images_to_process/Raspberry_r_126_100.jpg', 'input_images_to_process/Raspberry_r_127_100.jpg', 'input_images_to_process/Raspberry_r_322_100.jpg', 'input_images_to_process/Raspberry_r_323_100.jpg', 'input_images_to_process/Raspberry_r_88_100.jpg', 'input_images_to_process/Raspberry_r_91_100.jpg', 'input_images_to_process/Raspberry_r_94_100.jpg', 'input_images_to_process/Raspberry_r_97_100.jpg', 'input_images_to_process/Raspberry_r_98_100.jpg']\n"
     ]
    }
   ],
   "source": [
    "# Connect to S3 storage\n",
    "s3_bucket = boto3.resource('s3').Bucket(S3_BUCKET_NAME)\n",
    "\n",
    "print(\"... list images from Fruits 360 dataset in AWS S3 bucket input_images_to_process\")\n",
    "\n",
    "# list images from Fruits 360 dataset\n",
    "image_keys = [image.key for image in s3_bucket.objects.filter(Prefix=s3_input_images_to_process_bucket_folder) if '.jpg' in image.key]\n",
    "print(f\"Contains {len(image_keys)} images.\")\n",
    "print(image_keys)  "
   ]
  },
  {
   "cell_type": "markdown",
   "id": "5c0b37d9",
   "metadata": {},
   "source": [
    "## Process data"
   ]
  },
  {
   "cell_type": "code",
   "execution_count": 4,
   "id": "c90fb78e",
   "metadata": {},
   "outputs": [],
   "source": [
    "def start_spark() -> SparkSession:\n",
    "    \"\"\"\n",
    "    Returns: (SparkSession) my Spark session\n",
    "    \"\"\"\n",
    "    #sc = SparkContext()\n",
    "    #sc.setLogLevel(\"ERROR\")\n",
    "    #session = SparkSession(sparkContext=sc)\n",
    "    #print(f\"\\n{'#' * 100} \\n Cloud Fruits P8 \\n{'#' * 100}\\n\")\n",
    "    #return session\n",
    "    spark = SparkSession.builder \\\n",
    "          .master(\"local\") \\\n",
    "          .appName(\"Cloud-Fruits-P8\") \\\n",
    "          .getOrCreate()\n",
    "    return spark"
   ]
  },
  {
   "cell_type": "code",
   "execution_count": 5,
   "id": "a4c0c1c6",
   "metadata": {},
   "outputs": [],
   "source": [
    "def load_image(image_key: str, bucket_name: str) -> PIL.Image.Image:\n",
    "    \"\"\"\n",
    "    Load an image from AWS S3 storage.\n",
    "    Args:\n",
    "        image_key (str): image key in AWS S3 bucket\n",
    "        bucket_name (str): S3 bucket name\n",
    "    Returns: (PIL.Image.Image) RGB image data\n",
    "    \"\"\"\n",
    "    bucket = boto3.resource('s3').Bucket(bucket_name)\n",
    "    buffer = BytesIO()\n",
    "    bucket.Object(image_key).download_fileobj(buffer)\n",
    "    return PIL.Image.open(buffer)"
   ]
  },
  {
   "cell_type": "code",
   "execution_count": 6,
   "id": "b27b6ead",
   "metadata": {},
   "outputs": [],
   "source": [
    "def process_image(image_key: str) -> Row:\n",
    "    \"\"\"\n",
    "    Encodes an image into a fixed-length vector of float values using a pre-trained DNN encoder.\n",
    "    Args:\n",
    "        img (Row): image_key (str): image key in AWS S3 bucket\n",
    "    Returns: (Row) the image encoding, represented by a Row with fields:\n",
    "        origin (str): image original path (i.e., the image key in S3 bucket)\n",
    "        label (str): the image label\n",
    "        x0 (float): first feature of image encoding\n",
    "        (...)\n",
    "        x_(n-1) (float): last feature of image encoding\n",
    "    \"\"\"\n",
    "    print(f\"...... process image {image_key}\")\n",
    "    image_label = image_key.split('/')[-2]\n",
    "    image_array = load_image(image_key=image_key, bucket_name=S3_BUCKET_NAME)\n",
    "    image_encoding = broadcastEncoder.value.encode(image_array)\n",
    "    image_encoding = {f'x{i}': value for i, value in enumerate(image_encoding)}\n",
    "    return Row(origin=image_key, label=image_label, **image_encoding)"
   ]
  },
  {
   "cell_type": "code",
   "execution_count": 7,
   "id": "fad483a6",
   "metadata": {
    "scrolled": false
   },
   "outputs": [
    {
     "name": "stdout",
     "output_type": "stream",
     "text": [
      "... load image encoder\n",
      "... encode images and write output to file in output folder in AWS S3 bucket\n"
     ]
    },
    {
     "name": "stderr",
     "output_type": "stream",
     "text": [
      "...... process image input_images_to_process/Apricot_179_100.jpg    (0 + 1) / 1]\n",
      "[W NNPACK.cpp:51] Could not initialize NNPACK! Reason: Unsupported hardware.\n",
      "                                                                                \r"
     ]
    },
    {
     "name": "stdout",
     "output_type": "stream",
     "text": [
      "... Write result as parquet file in AWS S3 bucket output_features_and_images_processed\n"
     ]
    },
    {
     "name": "stderr",
     "output_type": "stream",
     "text": [
      "...... process image input_images_to_process/Apricot_179_100.jpg    (0 + 1) / 1]\n",
      "[W NNPACK.cpp:51] Could not initialize NNPACK! Reason: Unsupported hardware.\n",
      "...... process image input_images_to_process/Apricot_r_108_100.jpg\n",
      "                                                                                \r"
     ]
    },
    {
     "name": "stdout",
     "output_type": "stream",
     "text": [
      "... Will rename file [s3.ObjectSummary(bucket_name='cloud-fruits-p8-bucket', key='output_features_and_images_processed/20220628-114300-batch/features_to_classify/part-00000-910b7666-12a0-4daf-adaf-73d0c150b4cf-c000.snappy.parquet')]\n",
      "... rename file part-00000-910b7666-12a0-4daf-adaf-73d0c150b4cf-c000.snappy.parquet from output_features_and_images_processed/20220628-114300-batch/features_to_classify/cloud-fruits-p8-features.parquet\n",
      "... File part-00000-910b7666-12a0-4daf-adaf-73d0c150b4cf-c000.snappy.parquet successfully renamed to output_features_and_images_processed/20220628-114300-batch/features_to_classify/cloud-fruits-p8-features.parquet\n"
     ]
    }
   ],
   "source": [
    "if len(image_keys) > 0:\n",
    "    \n",
    "    spark = start_spark()\n",
    "    s3_client = boto3.client('s3')\n",
    "    \n",
    "    currentDate = datetime.datetime.today()\n",
    "    \n",
    "    print(\"... load image encoder\")\n",
    "    broadcastEncoder = spark.sparkContext.broadcast(Encoder())\n",
    "\n",
    "    print(\"... encode images and write output to file in output folder in AWS S3 bucket\")\n",
    "    output = spark.sparkContext.parallelize(image_keys).map(process_image).toDF()\n",
    "\n",
    "    # The coalesce method reduces the number of partitions in a DataFrame\n",
    "    # coalesce(1) consolidate the data in one partition only\n",
    "    # output.coalesce(1).write.csv(f'output/{currentDate.strftime(\"%Y%m%d:%H%M%S\")}/output.csv', header=\"true\", mode=\"overwrite\") # save as csv file\n",
    "    \n",
    "    # Write result in AWS s3 bucket output folder\n",
    "    print(f\"... Write result as parquet file in AWS S3 bucket {s3_output_features_and_images_processed_folder}\")\n",
    "    output.coalesce(1).write.parquet(f's3a://{S3_BUCKET_NAME}/{s3_output_features_and_images_processed_folder}/{currentDate.strftime(\"%Y%m%d-%H%M%S-batch\")}/{s3_output_features_to_classify_folder}') # save as parquet file\n",
    "\n",
    "    # list parquet file(s) from output folder\n",
    "    s3_prefix = s3_output_features_and_images_processed_folder + \"/\" + currentDate.strftime(\"%Y%m%d-%H%M%S-batch\") +\"/\" + s3_output_features_to_classify_folder\n",
    "    parquet_files = [parquet_file for parquet_file in s3_bucket.objects.filter(Prefix=s3_prefix) if '.parquet' in parquet_file.key]    \n",
    "    print(f\"... Will rename file {parquet_files}\")\n",
    "\n",
    "    if len(parquet_files) == 1:\n",
    "        parquet_file = parquet_files[0]\n",
    "        filename = parquet_file.key.split('/')[-1]\n",
    "        folder = parquet_file.key.split('/')[-2]        \n",
    "        try:\n",
    "            output_key = f'{s3_output_features_and_images_processed_folder}/{currentDate.strftime(\"%Y%m%d-%H%M%S-batch\")}/{folder}/{S3_OUTPUT_FEATURES_PARQUET_FILENAME}'\n",
    "            print(f\"... rename file {filename} from {output_key}\")\n",
    "            copy_source = {'Bucket': S3_BUCKET_NAME, 'Key': parquet_file.key}\n",
    "            s3_client.copy_object(Bucket = S3_BUCKET_NAME, CopySource = copy_source, Key = output_key)\n",
    "            s3_client.delete_object(Bucket = S3_BUCKET_NAME, Key = parquet_file.key)    \n",
    "            print(f\"... File {filename} successfully renamed to {output_key}\")\n",
    "        except Exception as e:\n",
    "            print(f\"{filename} not renamed correctly. The error raised is: \", e)\n",
    "        \n",
    "    spark.sparkContext.stop()\n",
    "\n",
    "else:\n",
    "    print(\"... no file to process, end of script\")\n",
    "    "
   ]
  },
  {
   "cell_type": "markdown",
   "id": "799d10be",
   "metadata": {},
   "source": [
    "## Move data to processed folder"
   ]
  },
  {
   "cell_type": "code",
   "execution_count": 8,
   "id": "5e322f5c",
   "metadata": {},
   "outputs": [
    {
     "name": "stdout",
     "output_type": "stream",
     "text": [
      "... will move 50 files from Fruits 360 dataset in AWS S3 bucket, from input_images_to_process to output_features_and_images_processed/images_processed\n",
      "Will move file from input_images_to_process/Apricot_179_100.jpg to output_features_and_images_processed/20220628-114300-batch/images_processed/Apricot_179_100.jpg\n",
      "File Apricot_179_100.jpg successfully moved to output_features_and_images_processed/20220628-114300-batch/images_processed/Apricot_179_100.jpg\n",
      "Will move file from input_images_to_process/Apricot_r_108_100.jpg to output_features_and_images_processed/20220628-114300-batch/images_processed/Apricot_r_108_100.jpg\n",
      "File Apricot_r_108_100.jpg successfully moved to output_features_and_images_processed/20220628-114300-batch/images_processed/Apricot_r_108_100.jpg\n",
      "Will move file from input_images_to_process/Apricot_r_109_100.jpg to output_features_and_images_processed/20220628-114300-batch/images_processed/Apricot_r_109_100.jpg\n",
      "File Apricot_r_109_100.jpg successfully moved to output_features_and_images_processed/20220628-114300-batch/images_processed/Apricot_r_109_100.jpg\n",
      "Will move file from input_images_to_process/Apricot_r_110_100.jpg to output_features_and_images_processed/20220628-114300-batch/images_processed/Apricot_r_110_100.jpg\n",
      "File Apricot_r_110_100.jpg successfully moved to output_features_and_images_processed/20220628-114300-batch/images_processed/Apricot_r_110_100.jpg\n",
      "Will move file from input_images_to_process/Apricot_r_111_100.jpg to output_features_and_images_processed/20220628-114300-batch/images_processed/Apricot_r_111_100.jpg\n",
      "File Apricot_r_111_100.jpg successfully moved to output_features_and_images_processed/20220628-114300-batch/images_processed/Apricot_r_111_100.jpg\n",
      "Will move file from input_images_to_process/Apricot_r_112_100.jpg to output_features_and_images_processed/20220628-114300-batch/images_processed/Apricot_r_112_100.jpg\n",
      "File Apricot_r_112_100.jpg successfully moved to output_features_and_images_processed/20220628-114300-batch/images_processed/Apricot_r_112_100.jpg\n",
      "Will move file from input_images_to_process/Apricot_r_283_100.jpg to output_features_and_images_processed/20220628-114300-batch/images_processed/Apricot_r_283_100.jpg\n",
      "File Apricot_r_283_100.jpg successfully moved to output_features_and_images_processed/20220628-114300-batch/images_processed/Apricot_r_283_100.jpg\n",
      "Will move file from input_images_to_process/Apricot_r_284_100.jpg to output_features_and_images_processed/20220628-114300-batch/images_processed/Apricot_r_284_100.jpg\n",
      "File Apricot_r_284_100.jpg successfully moved to output_features_and_images_processed/20220628-114300-batch/images_processed/Apricot_r_284_100.jpg\n",
      "Will move file from input_images_to_process/Apricot_r_285_100.jpg to output_features_and_images_processed/20220628-114300-batch/images_processed/Apricot_r_285_100.jpg\n",
      "File Apricot_r_285_100.jpg successfully moved to output_features_and_images_processed/20220628-114300-batch/images_processed/Apricot_r_285_100.jpg\n",
      "Will move file from input_images_to_process/Apricot_r_316_100.jpg to output_features_and_images_processed/20220628-114300-batch/images_processed/Apricot_r_316_100.jpg\n",
      "File Apricot_r_316_100.jpg successfully moved to output_features_and_images_processed/20220628-114300-batch/images_processed/Apricot_r_316_100.jpg\n",
      "Will move file from input_images_to_process/Apricot_r_318_100.jpg to output_features_and_images_processed/20220628-114300-batch/images_processed/Apricot_r_318_100.jpg\n",
      "File Apricot_r_318_100.jpg successfully moved to output_features_and_images_processed/20220628-114300-batch/images_processed/Apricot_r_318_100.jpg\n",
      "Will move file from input_images_to_process/Apricot_r_319_100.jpg to output_features_and_images_processed/20220628-114300-batch/images_processed/Apricot_r_319_100.jpg\n",
      "File Apricot_r_319_100.jpg successfully moved to output_features_and_images_processed/20220628-114300-batch/images_processed/Apricot_r_319_100.jpg\n",
      "Will move file from input_images_to_process/Banana_10_100.jpg to output_features_and_images_processed/20220628-114300-batch/images_processed/Banana_10_100.jpg\n",
      "File Banana_10_100.jpg successfully moved to output_features_and_images_processed/20220628-114300-batch/images_processed/Banana_10_100.jpg\n",
      "Will move file from input_images_to_process/Banana_11_100.jpg to output_features_and_images_processed/20220628-114300-batch/images_processed/Banana_11_100.jpg\n",
      "File Banana_11_100.jpg successfully moved to output_features_and_images_processed/20220628-114300-batch/images_processed/Banana_11_100.jpg\n",
      "Will move file from input_images_to_process/Banana_152_100.jpg to output_features_and_images_processed/20220628-114300-batch/images_processed/Banana_152_100.jpg\n",
      "File Banana_152_100.jpg successfully moved to output_features_and_images_processed/20220628-114300-batch/images_processed/Banana_152_100.jpg\n",
      "Will move file from input_images_to_process/Banana_153_100.jpg to output_features_and_images_processed/20220628-114300-batch/images_processed/Banana_153_100.jpg\n",
      "File Banana_153_100.jpg successfully moved to output_features_and_images_processed/20220628-114300-batch/images_processed/Banana_153_100.jpg\n",
      "Will move file from input_images_to_process/Banana_154_100.jpg to output_features_and_images_processed/20220628-114300-batch/images_processed/Banana_154_100.jpg\n",
      "File Banana_154_100.jpg successfully moved to output_features_and_images_processed/20220628-114300-batch/images_processed/Banana_154_100.jpg\n",
      "Will move file from input_images_to_process/Banana_279_100.jpg to output_features_and_images_processed/20220628-114300-batch/images_processed/Banana_279_100.jpg\n",
      "File Banana_279_100.jpg successfully moved to output_features_and_images_processed/20220628-114300-batch/images_processed/Banana_279_100.jpg\n",
      "Will move file from input_images_to_process/Banana_280_100.jpg to output_features_and_images_processed/20220628-114300-batch/images_processed/Banana_280_100.jpg\n",
      "File Banana_280_100.jpg successfully moved to output_features_and_images_processed/20220628-114300-batch/images_processed/Banana_280_100.jpg\n",
      "Will move file from input_images_to_process/Banana_282_100.jpg to output_features_and_images_processed/20220628-114300-batch/images_processed/Banana_282_100.jpg\n",
      "File Banana_282_100.jpg successfully moved to output_features_and_images_processed/20220628-114300-batch/images_processed/Banana_282_100.jpg\n",
      "Will move file from input_images_to_process/Banana_35_100.jpg to output_features_and_images_processed/20220628-114300-batch/images_processed/Banana_35_100.jpg\n",
      "File Banana_35_100.jpg successfully moved to output_features_and_images_processed/20220628-114300-batch/images_processed/Banana_35_100.jpg\n",
      "Will move file from input_images_to_process/Banana_37_100.jpg to output_features_and_images_processed/20220628-114300-batch/images_processed/Banana_37_100.jpg\n",
      "File Banana_37_100.jpg successfully moved to output_features_and_images_processed/20220628-114300-batch/images_processed/Banana_37_100.jpg\n",
      "Will move file from input_images_to_process/Banana_r_256_100.jpg to output_features_and_images_processed/20220628-114300-batch/images_processed/Banana_r_256_100.jpg\n",
      "File Banana_r_256_100.jpg successfully moved to output_features_and_images_processed/20220628-114300-batch/images_processed/Banana_r_256_100.jpg\n",
      "Will move file from input_images_to_process/Banana_r_308_100.jpg to output_features_and_images_processed/20220628-114300-batch/images_processed/Banana_r_308_100.jpg\n",
      "File Banana_r_308_100.jpg successfully moved to output_features_and_images_processed/20220628-114300-batch/images_processed/Banana_r_308_100.jpg\n",
      "Will move file from input_images_to_process/Banana_r_311_100.jpg to output_features_and_images_processed/20220628-114300-batch/images_processed/Banana_r_311_100.jpg\n",
      "File Banana_r_311_100.jpg successfully moved to output_features_and_images_processed/20220628-114300-batch/images_processed/Banana_r_311_100.jpg\n",
      "Will move file from input_images_to_process/Banana_r_323_100.jpg to output_features_and_images_processed/20220628-114300-batch/images_processed/Banana_r_323_100.jpg\n",
      "File Banana_r_323_100.jpg successfully moved to output_features_and_images_processed/20220628-114300-batch/images_processed/Banana_r_323_100.jpg\n",
      "Will move file from input_images_to_process/Kiwi_218_100.jpg to output_features_and_images_processed/20220628-114300-batch/images_processed/Kiwi_218_100.jpg\n",
      "File Kiwi_218_100.jpg successfully moved to output_features_and_images_processed/20220628-114300-batch/images_processed/Kiwi_218_100.jpg\n",
      "Will move file from input_images_to_process/Kiwi_220_100.jpg to output_features_and_images_processed/20220628-114300-batch/images_processed/Kiwi_220_100.jpg\n",
      "File Kiwi_220_100.jpg successfully moved to output_features_and_images_processed/20220628-114300-batch/images_processed/Kiwi_220_100.jpg\n",
      "Will move file from input_images_to_process/Kiwi_221_100.jpg to output_features_and_images_processed/20220628-114300-batch/images_processed/Kiwi_221_100.jpg\n"
     ]
    },
    {
     "name": "stdout",
     "output_type": "stream",
     "text": [
      "File Kiwi_221_100.jpg successfully moved to output_features_and_images_processed/20220628-114300-batch/images_processed/Kiwi_221_100.jpg\n",
      "Will move file from input_images_to_process/Kiwi_222_100.jpg to output_features_and_images_processed/20220628-114300-batch/images_processed/Kiwi_222_100.jpg\n",
      "File Kiwi_222_100.jpg successfully moved to output_features_and_images_processed/20220628-114300-batch/images_processed/Kiwi_222_100.jpg\n",
      "Will move file from input_images_to_process/Kiwi_r_180_100.jpg to output_features_and_images_processed/20220628-114300-batch/images_processed/Kiwi_r_180_100.jpg\n",
      "File Kiwi_r_180_100.jpg successfully moved to output_features_and_images_processed/20220628-114300-batch/images_processed/Kiwi_r_180_100.jpg\n",
      "Will move file from input_images_to_process/Kiwi_r_182_100.jpg to output_features_and_images_processed/20220628-114300-batch/images_processed/Kiwi_r_182_100.jpg\n",
      "File Kiwi_r_182_100.jpg successfully moved to output_features_and_images_processed/20220628-114300-batch/images_processed/Kiwi_r_182_100.jpg\n",
      "Will move file from input_images_to_process/Kiwi_r_210_100.jpg to output_features_and_images_processed/20220628-114300-batch/images_processed/Kiwi_r_210_100.jpg\n",
      "File Kiwi_r_210_100.jpg successfully moved to output_features_and_images_processed/20220628-114300-batch/images_processed/Kiwi_r_210_100.jpg\n",
      "Will move file from input_images_to_process/Kiwi_r_212_100.jpg to output_features_and_images_processed/20220628-114300-batch/images_processed/Kiwi_r_212_100.jpg\n",
      "File Kiwi_r_212_100.jpg successfully moved to output_features_and_images_processed/20220628-114300-batch/images_processed/Kiwi_r_212_100.jpg\n",
      "Will move file from input_images_to_process/Kiwi_r_213_100.jpg to output_features_and_images_processed/20220628-114300-batch/images_processed/Kiwi_r_213_100.jpg\n",
      "File Kiwi_r_213_100.jpg successfully moved to output_features_and_images_processed/20220628-114300-batch/images_processed/Kiwi_r_213_100.jpg\n",
      "Will move file from input_images_to_process/Kiwi_r_315_100.jpg to output_features_and_images_processed/20220628-114300-batch/images_processed/Kiwi_r_315_100.jpg\n",
      "File Kiwi_r_315_100.jpg successfully moved to output_features_and_images_processed/20220628-114300-batch/images_processed/Kiwi_r_315_100.jpg\n",
      "Will move file from input_images_to_process/Kiwi_r_316_100.jpg to output_features_and_images_processed/20220628-114300-batch/images_processed/Kiwi_r_316_100.jpg\n",
      "File Kiwi_r_316_100.jpg successfully moved to output_features_and_images_processed/20220628-114300-batch/images_processed/Kiwi_r_316_100.jpg\n",
      "Will move file from input_images_to_process/Kiwi_r_317_100.jpg to output_features_and_images_processed/20220628-114300-batch/images_processed/Kiwi_r_317_100.jpg\n",
      "File Kiwi_r_317_100.jpg successfully moved to output_features_and_images_processed/20220628-114300-batch/images_processed/Kiwi_r_317_100.jpg\n",
      "Will move file from input_images_to_process/Kiwi_r_318_100.jpg to output_features_and_images_processed/20220628-114300-batch/images_processed/Kiwi_r_318_100.jpg\n",
      "File Kiwi_r_318_100.jpg successfully moved to output_features_and_images_processed/20220628-114300-batch/images_processed/Kiwi_r_318_100.jpg\n",
      "Will move file from input_images_to_process/Raspberry_r_123_100.jpg to output_features_and_images_processed/20220628-114300-batch/images_processed/Raspberry_r_123_100.jpg\n",
      "File Raspberry_r_123_100.jpg successfully moved to output_features_and_images_processed/20220628-114300-batch/images_processed/Raspberry_r_123_100.jpg\n",
      "Will move file from input_images_to_process/Raspberry_r_124_100.jpg to output_features_and_images_processed/20220628-114300-batch/images_processed/Raspberry_r_124_100.jpg\n",
      "File Raspberry_r_124_100.jpg successfully moved to output_features_and_images_processed/20220628-114300-batch/images_processed/Raspberry_r_124_100.jpg\n",
      "Will move file from input_images_to_process/Raspberry_r_126_100.jpg to output_features_and_images_processed/20220628-114300-batch/images_processed/Raspberry_r_126_100.jpg\n",
      "File Raspberry_r_126_100.jpg successfully moved to output_features_and_images_processed/20220628-114300-batch/images_processed/Raspberry_r_126_100.jpg\n",
      "Will move file from input_images_to_process/Raspberry_r_127_100.jpg to output_features_and_images_processed/20220628-114300-batch/images_processed/Raspberry_r_127_100.jpg\n",
      "File Raspberry_r_127_100.jpg successfully moved to output_features_and_images_processed/20220628-114300-batch/images_processed/Raspberry_r_127_100.jpg\n",
      "Will move file from input_images_to_process/Raspberry_r_322_100.jpg to output_features_and_images_processed/20220628-114300-batch/images_processed/Raspberry_r_322_100.jpg\n",
      "File Raspberry_r_322_100.jpg successfully moved to output_features_and_images_processed/20220628-114300-batch/images_processed/Raspberry_r_322_100.jpg\n",
      "Will move file from input_images_to_process/Raspberry_r_323_100.jpg to output_features_and_images_processed/20220628-114300-batch/images_processed/Raspberry_r_323_100.jpg\n",
      "File Raspberry_r_323_100.jpg successfully moved to output_features_and_images_processed/20220628-114300-batch/images_processed/Raspberry_r_323_100.jpg\n",
      "Will move file from input_images_to_process/Raspberry_r_88_100.jpg to output_features_and_images_processed/20220628-114300-batch/images_processed/Raspberry_r_88_100.jpg\n",
      "File Raspberry_r_88_100.jpg successfully moved to output_features_and_images_processed/20220628-114300-batch/images_processed/Raspberry_r_88_100.jpg\n",
      "Will move file from input_images_to_process/Raspberry_r_91_100.jpg to output_features_and_images_processed/20220628-114300-batch/images_processed/Raspberry_r_91_100.jpg\n",
      "File Raspberry_r_91_100.jpg successfully moved to output_features_and_images_processed/20220628-114300-batch/images_processed/Raspberry_r_91_100.jpg\n",
      "Will move file from input_images_to_process/Raspberry_r_94_100.jpg to output_features_and_images_processed/20220628-114300-batch/images_processed/Raspberry_r_94_100.jpg\n",
      "File Raspberry_r_94_100.jpg successfully moved to output_features_and_images_processed/20220628-114300-batch/images_processed/Raspberry_r_94_100.jpg\n",
      "Will move file from input_images_to_process/Raspberry_r_97_100.jpg to output_features_and_images_processed/20220628-114300-batch/images_processed/Raspberry_r_97_100.jpg\n",
      "File Raspberry_r_97_100.jpg successfully moved to output_features_and_images_processed/20220628-114300-batch/images_processed/Raspberry_r_97_100.jpg\n",
      "Will move file from input_images_to_process/Raspberry_r_98_100.jpg to output_features_and_images_processed/20220628-114300-batch/images_processed/Raspberry_r_98_100.jpg\n",
      "File Raspberry_r_98_100.jpg successfully moved to output_features_and_images_processed/20220628-114300-batch/images_processed/Raspberry_r_98_100.jpg\n"
     ]
    }
   ],
   "source": [
    "if len(image_keys) > 0:\n",
    "\n",
    "    # Connect to S3 storage\n",
    "    s3_bucket = boto3.resource('s3').Bucket(S3_BUCKET_NAME)\n",
    "    s3_client = boto3.client('s3')\n",
    "\n",
    "    # Empty S3 storage\n",
    "    s3_bucket_images = [image for image in s3_bucket.objects.filter(Prefix=s3_input_images_to_process_bucket_folder) if '.jpg' in image.key]\n",
    "    print(f\"... will move {len(s3_bucket_images)} files from Fruits 360 dataset in AWS S3 bucket, from {s3_input_images_to_process_bucket_folder} to {s3_output_features_and_images_processed_folder}/{s3_output_images_processed_folder}\")\n",
    "    for s3_bucket_image in s3_bucket_images:\n",
    "        filename = s3_bucket_image.key.split('/')[-1]\n",
    "        try:\n",
    "            output_key = f'{s3_output_features_and_images_processed_folder}/{currentDate.strftime(\"%Y%m%d-%H%M%S\")}-batch/{s3_output_images_processed_folder}/{filename}'\n",
    "            print(f'Will move file from {s3_bucket_image.key} to {output_key}')\n",
    "\n",
    "            copy_source = {'Bucket': S3_BUCKET_NAME, 'Key': s3_bucket_image.key}\n",
    "            s3_client.copy_object(Bucket = S3_BUCKET_NAME, CopySource = copy_source, Key = output_key)\n",
    "            s3_client.delete_object(Bucket = S3_BUCKET_NAME, Key = s3_bucket_image.key)    \n",
    "            print(f'File {filename} successfully moved to {output_key}')\n",
    "        except:\n",
    "            print(f\"Exception thrown. {filename} not moved correctly\")\n",
    "            \n",
    "else:\n",
    "    print(\"... no file to process, end of script\")\n",
    "    "
   ]
  },
  {
   "cell_type": "code",
   "execution_count": null,
   "id": "408cd2ef",
   "metadata": {},
   "outputs": [],
   "source": []
  }
 ],
 "metadata": {
  "kernelspec": {
   "display_name": "Python 3 (ipykernel)",
   "language": "python",
   "name": "python3"
  },
  "language_info": {
   "codemirror_mode": {
    "name": "ipython",
    "version": 3
   },
   "file_extension": ".py",
   "mimetype": "text/x-python",
   "name": "python",
   "nbconvert_exporter": "python",
   "pygments_lexer": "ipython3",
   "version": "3.10.4"
  }
 },
 "nbformat": 4,
 "nbformat_minor": 5
}
