{
 "cells": [
  {
   "cell_type": "markdown",
   "id": "811bf501",
   "metadata": {},
   "source": [
    "# P8 Déployer un modèle dans le cloud - Upload dataset to AWS S3 bucket using boto3"
   ]
  },
  {
   "cell_type": "code",
   "execution_count": 1,
   "id": "3f9c543f",
   "metadata": {
    "scrolled": true
   },
   "outputs": [],
   "source": [
    "import random\n",
    "\n",
    "import boto3\n",
    "import requests\n",
    "from tqdm import tqdm\n",
    "\n",
    "import glob\n",
    "from PIL import Image\n",
    "import io"
   ]
  },
  {
   "cell_type": "markdown",
   "id": "e9b3ca85",
   "metadata": {},
   "source": [
    "## Load dataset"
   ]
  },
  {
   "cell_type": "code",
   "execution_count": 6,
   "id": "c0427a41",
   "metadata": {},
   "outputs": [],
   "source": [
    "dataset_folder = \"/home/ubuntu/fruits-360-dataset/LightTraining\""
   ]
  },
  {
   "cell_type": "code",
   "execution_count": 3,
   "id": "53d506cb",
   "metadata": {},
   "outputs": [],
   "source": [
    "def iterate_fruits_360_dataset(n_images: int = 1000):\n",
    "\n",
    "    # List all training images in dataset\n",
    "    images_paths = [file for file in glob.iglob(dataset_folder + '/**', recursive=True) if ('Training' in file and '.jpg' in file)]\n",
    "\n",
    "    # Yield training images\n",
    "    images_paths = random.sample(images_paths, n_images) if n_images else images_paths\n",
    "    for image_path in images_paths:\n",
    "        image_label = image_path.split('/')[-2].replace(' ', '')\n",
    "        image_name = image_path.split('/')[-1]\n",
    "        pil_image = Image.open(image_path)\n",
    "\n",
    "        yield pil_image , image_label, image_name"
   ]
  },
  {
   "cell_type": "markdown",
   "id": "81c55519",
   "metadata": {},
   "source": [
    "## Check access and current data in S3 bucket"
   ]
  },
  {
   "cell_type": "code",
   "execution_count": 4,
   "id": "988b4b01",
   "metadata": {},
   "outputs": [],
   "source": [
    "S3_BUCKET_NAME = 'cloud-fruits-p8-bucket'\n",
    "\n",
    "s3_input_images_to_process_bucket_folder = 'input_images_to_process'"
   ]
  },
  {
   "cell_type": "code",
   "execution_count": 9,
   "id": "194fa99b",
   "metadata": {},
   "outputs": [
    {
     "name": "stdout",
     "output_type": "stream",
     "text": [
      "... list images from Fruits 360 dataset in S3 input_images_to_process bucket\n",
      "50 ['input_images_to_process/Apricot_145_100.jpg', 'input_images_to_process/Apricot_146_100.jpg', 'input_images_to_process/Apricot_148_100.jpg', 'input_images_to_process/Apricot_179_100.jpg', 'input_images_to_process/Apricot_181_100.jpg', 'input_images_to_process/Apricot_182_100.jpg', 'input_images_to_process/Apricot_r_108_100.jpg', 'input_images_to_process/Apricot_r_110_100.jpg', 'input_images_to_process/Apricot_r_111_100.jpg', 'input_images_to_process/Apricot_r_286_100.jpg', 'input_images_to_process/Apricot_r_314_100.jpg', 'input_images_to_process/Apricot_r_317_100.jpg', 'input_images_to_process/Apricot_r_320_100.jpg', 'input_images_to_process/Banana_10_100.jpg', 'input_images_to_process/Banana_11_100.jpg', 'input_images_to_process/Banana_152_100.jpg', 'input_images_to_process/Banana_153_100.jpg', 'input_images_to_process/Banana_216_100.jpg', 'input_images_to_process/Banana_217_100.jpg', 'input_images_to_process/Banana_279_100.jpg', 'input_images_to_process/Banana_281_100.jpg', 'input_images_to_process/Banana_282_100.jpg', 'input_images_to_process/Banana_283_100.jpg', 'input_images_to_process/Banana_38_100.jpg', 'input_images_to_process/Banana_r_256_100.jpg', 'input_images_to_process/Banana_r_308_100.jpg', 'input_images_to_process/Banana_r_309_100.jpg', 'input_images_to_process/Kiwi_222_100.jpg', 'input_images_to_process/Kiwi_r_209_100.jpg', 'input_images_to_process/Kiwi_r_211_100.jpg', 'input_images_to_process/Kiwi_r_213_100.jpg', 'input_images_to_process/Kiwi_r_315_100.jpg', 'input_images_to_process/Kiwi_r_317_100.jpg', 'input_images_to_process/Kiwi_r_318_100.jpg', 'input_images_to_process/Kiwi_r_319_100.jpg', 'input_images_to_process/Kiwi_r_320_100.jpg', 'input_images_to_process/Raspberry_r_113_100.jpg', 'input_images_to_process/Raspberry_r_125_100.jpg', 'input_images_to_process/Raspberry_r_322_100.jpg', 'input_images_to_process/Raspberry_r_324_100.jpg', 'input_images_to_process/Raspberry_r_326_100.jpg', 'input_images_to_process/Raspberry_r_327_100.jpg', 'input_images_to_process/Raspberry_r_69_100.jpg', 'input_images_to_process/Raspberry_r_70_100.jpg', 'input_images_to_process/Raspberry_r_71_100.jpg', 'input_images_to_process/Raspberry_r_72_100.jpg', 'input_images_to_process/Raspberry_r_88_100.jpg', 'input_images_to_process/Raspberry_r_91_100.jpg', 'input_images_to_process/Raspberry_r_94_100.jpg', 'input_images_to_process/Raspberry_r_98_100.jpg']\n"
     ]
    }
   ],
   "source": [
    "print(\"... list images from Fruits 360 dataset in S3 input_images_to_process bucket\")\n",
    "\n",
    "# Connect to S3 storage\n",
    "s3_bucket = boto3.resource('s3').Bucket(S3_BUCKET_NAME)\n",
    "\n",
    "# list images from Fruits 360 dataset\n",
    "image_keys = [image.key for image in s3_bucket.objects.filter(Prefix=s3_input_images_to_process_bucket_folder) if '.jpg' in image.key]\n",
    "print(len(image_keys), image_keys)"
   ]
  },
  {
   "cell_type": "markdown",
   "id": "ce402bb3",
   "metadata": {},
   "source": [
    "## Upload to S3 bucket"
   ]
  },
  {
   "cell_type": "code",
   "execution_count": 8,
   "id": "63c63aea",
   "metadata": {
    "scrolled": true
   },
   "outputs": [
    {
     "name": "stderr",
     "output_type": "stream",
     "text": [
      "1it [00:00,  9.43it/s]"
     ]
    },
    {
     "name": "stdout",
     "output_type": "stream",
     "text": [
      "<PIL.JpegImagePlugin.JpegImageFile image mode=RGB size=100x100 at 0x7F3C5B593F70> Raspberry r_326_100.jpg\n",
      "<PIL.JpegImagePlugin.JpegImageFile image mode=RGB size=100x100 at 0x7F3C5B593B20> Banana 216_100.jpg\n",
      "<PIL.JpegImagePlugin.JpegImageFile image mode=RGB size=100x100 at 0x7F3C5AC95310> Apricot r_317_100.jpg\n",
      "<PIL.JpegImagePlugin.JpegImageFile image mode=RGB size=100x100 at 0x7F3C5B593F70> Raspberry r_94_100.jpg\n"
     ]
    },
    {
     "name": "stderr",
     "output_type": "stream",
     "text": [
      "7it [00:00, 22.11it/s]"
     ]
    },
    {
     "name": "stdout",
     "output_type": "stream",
     "text": [
      "<PIL.JpegImagePlugin.JpegImageFile image mode=RGB size=100x100 at 0x7F3C5AC95820> Banana r_308_100.jpg\n",
      "<PIL.JpegImagePlugin.JpegImageFile image mode=RGB size=100x100 at 0x7F3C5AC1E4C0> Apricot r_320_100.jpg\n",
      "<PIL.JpegImagePlugin.JpegImageFile image mode=RGB size=100x100 at 0x7F3C5AC1E730> Raspberry r_327_100.jpg\n",
      "<PIL.JpegImagePlugin.JpegImageFile image mode=RGB size=100x100 at 0x7F3C5AC1E280> Raspberry r_113_100.jpg\n",
      "<PIL.JpegImagePlugin.JpegImageFile image mode=RGB size=100x100 at 0x7F3C5AC3D280> Kiwi r_317_100.jpg\n",
      "<PIL.JpegImagePlugin.JpegImageFile image mode=RGB size=100x100 at 0x7F3C5AC1E670> Raspberry r_71_100.jpg\n"
     ]
    },
    {
     "name": "stderr",
     "output_type": "stream",
     "text": [
      "13it [00:00, 24.07it/s]"
     ]
    },
    {
     "name": "stdout",
     "output_type": "stream",
     "text": [
      "<PIL.JpegImagePlugin.JpegImageFile image mode=RGB size=100x100 at 0x7F3C5AC3DB20> Raspberry r_91_100.jpg\n",
      "<PIL.JpegImagePlugin.JpegImageFile image mode=RGB size=100x100 at 0x7F3C5AC1E430> Banana 279_100.jpg\n",
      "<PIL.JpegImagePlugin.JpegImageFile image mode=RGB size=100x100 at 0x7F3C5AC2ECA0> Kiwi r_318_100.jpg\n",
      "<PIL.JpegImagePlugin.JpegImageFile image mode=RGB size=100x100 at 0x7F3C5AC1E190> Banana 217_100.jpg\n",
      "<PIL.JpegImagePlugin.JpegImageFile image mode=RGB size=100x100 at 0x7F3C5AC525E0> Apricot 179_100.jpg\n",
      "<PIL.JpegImagePlugin.JpegImageFile image mode=RGB size=100x100 at 0x7F3C5AC524C0> Banana 282_100.jpg\n"
     ]
    },
    {
     "name": "stderr",
     "output_type": "stream",
     "text": [
      "19it [00:00, 26.16it/s]"
     ]
    },
    {
     "name": "stdout",
     "output_type": "stream",
     "text": [
      "<PIL.JpegImagePlugin.JpegImageFile image mode=RGB size=100x100 at 0x7F3C5AC52850> Kiwi 222_100.jpg\n",
      "<PIL.JpegImagePlugin.JpegImageFile image mode=RGB size=100x100 at 0x7F3C5AC52700> Apricot 148_100.jpg\n",
      "<PIL.JpegImagePlugin.JpegImageFile image mode=RGB size=100x100 at 0x7F3C5AC52D60> Banana r_309_100.jpg\n",
      "<PIL.JpegImagePlugin.JpegImageFile image mode=RGB size=100x100 at 0x7F3C5AC2E820> Banana 10_100.jpg\n",
      "<PIL.JpegImagePlugin.JpegImageFile image mode=RGB size=100x100 at 0x7F3C5AC1E040> Apricot 145_100.jpg\n",
      "<PIL.JpegImagePlugin.JpegImageFile image mode=RGB size=100x100 at 0x7F3C5AC52A60> Apricot r_286_100.jpg\n",
      "<PIL.JpegImagePlugin.JpegImageFile image mode=RGB size=100x100 at 0x7F3C5AC1E280> Raspberry r_324_100.jpg\n"
     ]
    },
    {
     "name": "stderr",
     "output_type": "stream",
     "text": [
      "27it [00:01, 29.09it/s]"
     ]
    },
    {
     "name": "stdout",
     "output_type": "stream",
     "text": [
      "<PIL.JpegImagePlugin.JpegImageFile image mode=RGB size=100x100 at 0x7F3C5AC523D0> Apricot r_314_100.jpg\n",
      "<PIL.JpegImagePlugin.JpegImageFile image mode=RGB size=100x100 at 0x7F3C5AC550D0> Apricot r_108_100.jpg\n",
      "<PIL.JpegImagePlugin.JpegImageFile image mode=RGB size=100x100 at 0x7F3C5AC559D0> Banana 153_100.jpg\n",
      "<PIL.JpegImagePlugin.JpegImageFile image mode=RGB size=100x100 at 0x7F3C5AC55AC0> Kiwi r_209_100.jpg\n",
      "<PIL.JpegImagePlugin.JpegImageFile image mode=RGB size=100x100 at 0x7F3C5AC1E640> Apricot 146_100.jpg\n",
      "<PIL.JpegImagePlugin.JpegImageFile image mode=RGB size=100x100 at 0x7F3C5AC957C0> Banana 283_100.jpg\n",
      "<PIL.JpegImagePlugin.JpegImageFile image mode=RGB size=100x100 at 0x7F3C5AC1E550> Raspberry r_72_100.jpg\n"
     ]
    },
    {
     "name": "stderr",
     "output_type": "stream",
     "text": [
      "34it [00:01, 26.80it/s]"
     ]
    },
    {
     "name": "stdout",
     "output_type": "stream",
     "text": [
      "<PIL.JpegImagePlugin.JpegImageFile image mode=RGB size=100x100 at 0x7F3C5AC95280> Kiwi r_213_100.jpg\n",
      "<PIL.JpegImagePlugin.JpegImageFile image mode=RGB size=100x100 at 0x7F3C5AC1E8E0> Banana r_256_100.jpg\n",
      "<PIL.JpegImagePlugin.JpegImageFile image mode=RGB size=100x100 at 0x7F3C5AC3D100> Raspberry r_98_100.jpg\n",
      "<PIL.JpegImagePlugin.JpegImageFile image mode=RGB size=100x100 at 0x7F3C5AC2E580> Banana 152_100.jpg\n",
      "<PIL.JpegImagePlugin.JpegImageFile image mode=RGB size=100x100 at 0x7F3C5AC2EA90> Raspberry r_69_100.jpg\n"
     ]
    },
    {
     "name": "stderr",
     "output_type": "stream",
     "text": [
      "40it [00:01, 27.31it/s]"
     ]
    },
    {
     "name": "stdout",
     "output_type": "stream",
     "text": [
      "<PIL.JpegImagePlugin.JpegImageFile image mode=RGB size=100x100 at 0x7F3C5AC1E7C0> Banana 281_100.jpg\n",
      "<PIL.JpegImagePlugin.JpegImageFile image mode=RGB size=100x100 at 0x7F3C5AC2ED90> Kiwi r_315_100.jpg\n",
      "<PIL.JpegImagePlugin.JpegImageFile image mode=RGB size=100x100 at 0x7F3C5AC48580> Raspberry r_125_100.jpg\n",
      "<PIL.JpegImagePlugin.JpegImageFile image mode=RGB size=100x100 at 0x7F3C5AC1E6D0> Apricot 182_100.jpg\n",
      "<PIL.JpegImagePlugin.JpegImageFile image mode=RGB size=100x100 at 0x7F3C5AC95550> Kiwi r_319_100.jpg\n",
      "<PIL.JpegImagePlugin.JpegImageFile image mode=RGB size=100x100 at 0x7F3C5AC1E1C0> Banana 38_100.jpg\n"
     ]
    },
    {
     "name": "stderr",
     "output_type": "stream",
     "text": [
      "\r",
      "43it [00:01, 25.70it/s]"
     ]
    },
    {
     "name": "stdout",
     "output_type": "stream",
     "text": [
      "<PIL.JpegImagePlugin.JpegImageFile image mode=RGB size=100x100 at 0x7F3C5AC4BB80> Apricot r_110_100.jpg\n",
      "<PIL.JpegImagePlugin.JpegImageFile image mode=RGB size=100x100 at 0x7F3C5AC1E130> Kiwi r_211_100.jpg\n",
      "<PIL.JpegImagePlugin.JpegImageFile image mode=RGB size=100x100 at 0x7F3C5AC52280> Raspberry r_70_100.jpg\n",
      "<PIL.JpegImagePlugin.JpegImageFile image mode=RGB size=100x100 at 0x7F3C5AC52FD0> Raspberry r_88_100.jpg\n",
      "<PIL.JpegImagePlugin.JpegImageFile image mode=RGB size=100x100 at 0x7F3C5AC52B50> Raspberry r_322_100.jpg\n",
      "<PIL.JpegImagePlugin.JpegImageFile image mode=RGB size=100x100 at 0x7F3C5AC3DEE0> Kiwi r_320_100.jpg\n"
     ]
    },
    {
     "name": "stderr",
     "output_type": "stream",
     "text": [
      "50it [00:01, 26.16it/s]"
     ]
    },
    {
     "name": "stdout",
     "output_type": "stream",
     "text": [
      "<PIL.JpegImagePlugin.JpegImageFile image mode=RGB size=100x100 at 0x7F3C5AC521C0> Apricot r_111_100.jpg\n",
      "<PIL.JpegImagePlugin.JpegImageFile image mode=RGB size=100x100 at 0x7F3C5AC3DDC0> Apricot 181_100.jpg\n",
      "<PIL.JpegImagePlugin.JpegImageFile image mode=RGB size=100x100 at 0x7F3C5AC959D0> Banana 11_100.jpg\n"
     ]
    },
    {
     "name": "stderr",
     "output_type": "stream",
     "text": [
      "\n"
     ]
    }
   ],
   "source": [
    "# Connect to S3 storage\n",
    "s3_bucket = boto3.resource('s3').Bucket(S3_BUCKET_NAME)\n",
    "\n",
    "# Empty S3 storage\n",
    "#s3_bucket.objects.all().delete()\n",
    "\n",
    "# Iterate over Fruits 360 dataset and upload training images to S3 storage\n",
    "for pil_image, img_label, img_name in tqdm(iterate_fruits_360_dataset(n_images=50)):\n",
    "    print(pil_image, img_label, img_name)\n",
    "    \n",
    "    # Save the image to an in-memory file\n",
    "    in_mem_file = io.BytesIO()\n",
    "    pil_image.save(in_mem_file, format=pil_image.format)\n",
    "    in_mem_file.seek(0)\n",
    "    \n",
    "    # Upload image to s3\n",
    "    s3_bucket.upload_fileobj(in_mem_file, Key=f'{s3_input_images_to_process_bucket_folder}/{img_label}_{img_name}')    "
   ]
  },
  {
   "cell_type": "markdown",
   "id": "3080e76b",
   "metadata": {},
   "source": [
    "## Empty AWS s3 bucket input folder"
   ]
  },
  {
   "cell_type": "code",
   "execution_count": 13,
   "id": "55e1936a",
   "metadata": {},
   "outputs": [],
   "source": [
    "# Connect to S3 storage\n",
    "#s3_bucket = boto3.resource('s3').Bucket(S3_BUCKET_NAME)\n",
    "\n",
    "# Empty S3 storage\n",
    "#s3_bucket_images = [image for image in s3_bucket.objects.filter(Prefix=s3_input_images_to_process_bucket_folder) if '.jpg' in image.key]\n",
    "#for s3_bucket_image in s3_bucket_images:\n",
    "#    s3_bucket_image.delete()    "
   ]
  },
  {
   "cell_type": "code",
   "execution_count": null,
   "id": "7fb6a170",
   "metadata": {},
   "outputs": [],
   "source": []
  }
 ],
 "metadata": {
  "kernelspec": {
   "display_name": "Python 3 (ipykernel)",
   "language": "python",
   "name": "python3"
  },
  "language_info": {
   "codemirror_mode": {
    "name": "ipython",
    "version": 3
   },
   "file_extension": ".py",
   "mimetype": "text/x-python",
   "name": "python",
   "nbconvert_exporter": "python",
   "pygments_lexer": "ipython3",
   "version": "3.9.12"
  }
 },
 "nbformat": 4,
 "nbformat_minor": 5
}
