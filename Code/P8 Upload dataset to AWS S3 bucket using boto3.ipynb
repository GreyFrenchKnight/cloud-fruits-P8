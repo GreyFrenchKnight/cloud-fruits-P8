{
 "cells": [
  {
   "cell_type": "markdown",
   "id": "811bf501",
   "metadata": {},
   "source": [
    "# P8 Déployer un modèle dans le cloud - Upload dataset to AWS S3 bucket using boto3"
   ]
  },
  {
   "cell_type": "code",
   "execution_count": 7,
   "id": "3f9c543f",
   "metadata": {
    "scrolled": true
   },
   "outputs": [],
   "source": [
    "import random\n",
    "\n",
    "import boto3\n",
    "import requests\n",
    "from tqdm import tqdm\n",
    "\n",
    "import glob\n",
    "from PIL import Image\n",
    "import io"
   ]
  },
  {
   "cell_type": "markdown",
   "id": "e9b3ca85",
   "metadata": {},
   "source": [
    "## Load dataset"
   ]
  },
  {
   "cell_type": "code",
   "execution_count": 8,
   "id": "c0427a41",
   "metadata": {},
   "outputs": [],
   "source": [
    "dataset_folder = \"/opt/spark/fruits-360-dataset/LightTraining\""
   ]
  },
  {
   "cell_type": "code",
   "execution_count": 9,
   "id": "53d506cb",
   "metadata": {},
   "outputs": [],
   "source": [
    "def iterate_fruits_360_dataset(n_images: int = 1000):\n",
    "\n",
    "    # List all training images in dataset\n",
    "    images_paths = [file for file in glob.iglob(dataset_folder + '/**', recursive=True) if ('Training' in file and '.jpg' in file)]\n",
    "\n",
    "    # Yield training images\n",
    "    images_paths = random.sample(images_paths, n_images) if n_images else images_paths\n",
    "    for image_path in images_paths:\n",
    "        image_label = image_path.split('/')[-2].replace(' ', '')\n",
    "        image_name = image_path.split('/')[-1]\n",
    "        pil_image = Image.open(image_path)\n",
    "\n",
    "        yield pil_image , image_label, image_name"
   ]
  },
  {
   "cell_type": "markdown",
   "id": "81c55519",
   "metadata": {},
   "source": [
    "## Check access and current data in S3 bucket"
   ]
  },
  {
   "cell_type": "code",
   "execution_count": 10,
   "id": "988b4b01",
   "metadata": {},
   "outputs": [],
   "source": [
    "S3_BUCKET_NAME = 'cloud-fruits-p8-bucket'\n",
    "\n",
    "s3_input_images_to_process_bucket_folder = 'input_images_to_process'"
   ]
  },
  {
   "cell_type": "code",
   "execution_count": 11,
   "id": "194fa99b",
   "metadata": {},
   "outputs": [
    {
     "name": "stdout",
     "output_type": "stream",
     "text": [
      "... list images from Fruits 360 dataset in S3 input_images_to_process bucket\n",
      "50 ['input_images_to_process/Apricot_146_100.jpg', 'input_images_to_process/Apricot_148_100.jpg', 'input_images_to_process/Apricot_183_100.jpg', 'input_images_to_process/Apricot_r_112_100.jpg', 'input_images_to_process/Apricot_r_284_100.jpg', 'input_images_to_process/Apricot_r_285_100.jpg', 'input_images_to_process/Apricot_r_286_100.jpg', 'input_images_to_process/Apricot_r_315_100.jpg', 'input_images_to_process/Apricot_r_319_100.jpg', 'input_images_to_process/Banana_152_100.jpg', 'input_images_to_process/Banana_153_100.jpg', 'input_images_to_process/Banana_215_100.jpg', 'input_images_to_process/Banana_281_100.jpg', 'input_images_to_process/Banana_282_100.jpg', 'input_images_to_process/Banana_35_100.jpg', 'input_images_to_process/Banana_37_100.jpg', 'input_images_to_process/Banana_r_256_100.jpg', 'input_images_to_process/Banana_r_308_100.jpg', 'input_images_to_process/Banana_r_309_100.jpg', 'input_images_to_process/Banana_r_310_100.jpg', 'input_images_to_process/Banana_r_311_100.jpg', 'input_images_to_process/Banana_r_322_100.jpg', 'input_images_to_process/Banana_r_323_100.jpg', 'input_images_to_process/Banana_r_324_100.jpg', 'input_images_to_process/Kiwi_218_100.jpg', 'input_images_to_process/Kiwi_219_100.jpg', 'input_images_to_process/Kiwi_220_100.jpg', 'input_images_to_process/Kiwi_r_180_100.jpg', 'input_images_to_process/Kiwi_r_182_100.jpg', 'input_images_to_process/Kiwi_r_210_100.jpg', 'input_images_to_process/Kiwi_r_212_100.jpg', 'input_images_to_process/Kiwi_r_314_100.jpg', 'input_images_to_process/Kiwi_r_315_100.jpg', 'input_images_to_process/Kiwi_r_319_100.jpg', 'input_images_to_process/Raspberry_r_113_100.jpg', 'input_images_to_process/Raspberry_r_123_100.jpg', 'input_images_to_process/Raspberry_r_124_100.jpg', 'input_images_to_process/Raspberry_r_125_100.jpg', 'input_images_to_process/Raspberry_r_126_100.jpg', 'input_images_to_process/Raspberry_r_127_100.jpg', 'input_images_to_process/Raspberry_r_322_100.jpg', 'input_images_to_process/Raspberry_r_324_100.jpg', 'input_images_to_process/Raspberry_r_326_100.jpg', 'input_images_to_process/Raspberry_r_71_100.jpg', 'input_images_to_process/Raspberry_r_72_100.jpg', 'input_images_to_process/Raspberry_r_88_100.jpg', 'input_images_to_process/Raspberry_r_90_100.jpg', 'input_images_to_process/Raspberry_r_91_100.jpg', 'input_images_to_process/Raspberry_r_94_100.jpg', 'input_images_to_process/Raspberry_r_99_100.jpg']\n"
     ]
    }
   ],
   "source": [
    "print(\"... list images from Fruits 360 dataset in S3 input_images_to_process bucket\")\n",
    "\n",
    "# Connect to S3 storage\n",
    "s3_bucket = boto3.resource('s3').Bucket(S3_BUCKET_NAME)\n",
    "\n",
    "# list images from Fruits 360 dataset\n",
    "image_keys = [image.key for image in s3_bucket.objects.filter(Prefix=s3_input_images_to_process_bucket_folder) if '.jpg' in image.key]\n",
    "print(len(image_keys), image_keys)"
   ]
  },
  {
   "cell_type": "markdown",
   "id": "ce402bb3",
   "metadata": {},
   "source": [
    "## Upload to S3 bucket"
   ]
  },
  {
   "cell_type": "code",
   "execution_count": 16,
   "id": "63c63aea",
   "metadata": {
    "scrolled": true
   },
   "outputs": [
    {
     "name": "stderr",
     "output_type": "stream",
     "text": [
      "\r",
      "0it [00:00, ?it/s]"
     ]
    },
    {
     "name": "stdout",
     "output_type": "stream",
     "text": [
      "<PIL.JpegImagePlugin.JpegImageFile image mode=RGB size=100x100 at 0x7F872C770160> Raspberry r_126_100.jpg\n"
     ]
    },
    {
     "name": "stderr",
     "output_type": "stream",
     "text": [
      "3it [00:00,  5.61it/s]"
     ]
    },
    {
     "name": "stdout",
     "output_type": "stream",
     "text": [
      "<PIL.JpegImagePlugin.JpegImageFile image mode=RGB size=100x100 at 0x7F8755484040> Apricot r_108_100.jpg\n",
      "<PIL.JpegImagePlugin.JpegImageFile image mode=RGB size=100x100 at 0x7F872C5D3F70> Banana 152_100.jpg\n",
      "<PIL.JpegImagePlugin.JpegImageFile image mode=RGB size=100x100 at 0x7F872C5D2F20> Kiwi r_182_100.jpg\n",
      "<PIL.JpegImagePlugin.JpegImageFile image mode=RGB size=100x100 at 0x7F872C5D3460> Kiwi r_180_100.jpg\n"
     ]
    },
    {
     "name": "stderr",
     "output_type": "stream",
     "text": [
      "7it [00:00, 10.44it/s]"
     ]
    },
    {
     "name": "stdout",
     "output_type": "stream",
     "text": [
      "<PIL.JpegImagePlugin.JpegImageFile image mode=RGB size=100x100 at 0x7F872C5D2FE0> Kiwi r_210_100.jpg\n",
      "<PIL.JpegImagePlugin.JpegImageFile image mode=RGB size=100x100 at 0x7F872C5D3F70> Raspberry r_94_100.jpg\n",
      "<PIL.JpegImagePlugin.JpegImageFile image mode=RGB size=100x100 at 0x7F872C5D2E60> Apricot 179_100.jpg\n",
      "<PIL.JpegImagePlugin.JpegImageFile image mode=RGB size=100x100 at 0x7F872C5D33A0> Banana 11_100.jpg\n"
     ]
    },
    {
     "name": "stderr",
     "output_type": "stream",
     "text": [
      "11it [00:01, 13.19it/s]"
     ]
    },
    {
     "name": "stdout",
     "output_type": "stream",
     "text": [
      "<PIL.JpegImagePlugin.JpegImageFile image mode=RGB size=100x100 at 0x7F872C847FD0> Banana 279_100.jpg\n",
      "<PIL.JpegImagePlugin.JpegImageFile image mode=RGB size=100x100 at 0x7F872C594820> Apricot r_110_100.jpg\n",
      "<PIL.JpegImagePlugin.JpegImageFile image mode=RGB size=100x100 at 0x7F872C847FD0> Banana r_308_100.jpg\n",
      "<PIL.JpegImagePlugin.JpegImageFile image mode=RGB size=100x100 at 0x7F8755484040> Raspberry r_123_100.jpg\n"
     ]
    },
    {
     "name": "stderr",
     "output_type": "stream",
     "text": [
      "15it [00:01, 14.51it/s]"
     ]
    },
    {
     "name": "stdout",
     "output_type": "stream",
     "text": [
      "<PIL.JpegImagePlugin.JpegImageFile image mode=RGB size=100x100 at 0x7F872C5948E0> Apricot r_319_100.jpg\n",
      "<PIL.JpegImagePlugin.JpegImageFile image mode=RGB size=100x100 at 0x7F872C5D3F70> Banana r_256_100.jpg\n",
      "<PIL.JpegImagePlugin.JpegImageFile image mode=RGB size=100x100 at 0x7F872C8465C0> Raspberry r_323_100.jpg\n",
      "<PIL.JpegImagePlugin.JpegImageFile image mode=RGB size=100x100 at 0x7F872C5D3310> Banana 153_100.jpg\n"
     ]
    },
    {
     "name": "stderr",
     "output_type": "stream",
     "text": [
      "19it [00:01, 14.97it/s]"
     ]
    },
    {
     "name": "stdout",
     "output_type": "stream",
     "text": [
      "<PIL.JpegImagePlugin.JpegImageFile image mode=RGB size=100x100 at 0x7F872C6B3160> Raspberry r_127_100.jpg\n",
      "<PIL.JpegImagePlugin.JpegImageFile image mode=RGB size=100x100 at 0x7F872C5D3220> Raspberry r_322_100.jpg\n",
      "<PIL.JpegImagePlugin.JpegImageFile image mode=RGB size=100x100 at 0x7F872D53ED40> Kiwi 218_100.jpg\n",
      "<PIL.JpegImagePlugin.JpegImageFile image mode=RGB size=100x100 at 0x7F872C5D3400> Banana 282_100.jpg\n"
     ]
    },
    {
     "name": "stderr",
     "output_type": "stream",
     "text": [
      "23it [00:01, 15.52it/s]"
     ]
    },
    {
     "name": "stdout",
     "output_type": "stream",
     "text": [
      "<PIL.JpegImagePlugin.JpegImageFile image mode=RGB size=100x100 at 0x7F872C6B3940> Banana 35_100.jpg\n",
      "<PIL.JpegImagePlugin.JpegImageFile image mode=RGB size=100x100 at 0x7F872C5951B0> Banana 154_100.jpg\n",
      "<PIL.JpegImagePlugin.JpegImageFile image mode=RGB size=100x100 at 0x7F872C6B30A0> Apricot r_284_100.jpg\n",
      "<PIL.JpegImagePlugin.JpegImageFile image mode=RGB size=100x100 at 0x7F872C5D2EC0> Raspberry r_91_100.jpg\n"
     ]
    },
    {
     "name": "stderr",
     "output_type": "stream",
     "text": [
      "27it [00:02, 15.78it/s]"
     ]
    },
    {
     "name": "stdout",
     "output_type": "stream",
     "text": [
      "<PIL.JpegImagePlugin.JpegImageFile image mode=RGB size=100x100 at 0x7F872C6B3790> Kiwi r_212_100.jpg\n",
      "<PIL.JpegImagePlugin.JpegImageFile image mode=RGB size=100x100 at 0x7F872D53ED40> Raspberry r_98_100.jpg\n",
      "<PIL.JpegImagePlugin.JpegImageFile image mode=RGB size=100x100 at 0x7F872C6D8910> Apricot r_318_100.jpg\n",
      "<PIL.JpegImagePlugin.JpegImageFile image mode=RGB size=100x100 at 0x7F872C6D9C60> Kiwi 222_100.jpg\n"
     ]
    },
    {
     "name": "stderr",
     "output_type": "stream",
     "text": [
      "31it [00:02, 15.55it/s]"
     ]
    },
    {
     "name": "stdout",
     "output_type": "stream",
     "text": [
      "<PIL.JpegImagePlugin.JpegImageFile image mode=RGB size=100x100 at 0x7F872D53ED40> Raspberry r_124_100.jpg\n",
      "<PIL.JpegImagePlugin.JpegImageFile image mode=RGB size=100x100 at 0x7F872C6D9300> Kiwi r_315_100.jpg\n",
      "<PIL.JpegImagePlugin.JpegImageFile image mode=RGB size=100x100 at 0x7F872C6D8BE0> Apricot r_109_100.jpg\n",
      "<PIL.JpegImagePlugin.JpegImageFile image mode=RGB size=100x100 at 0x7F872C8465C0> Banana 10_100.jpg\n"
     ]
    },
    {
     "name": "stderr",
     "output_type": "stream",
     "text": [
      "35it [00:02, 15.71it/s]"
     ]
    },
    {
     "name": "stdout",
     "output_type": "stream",
     "text": [
      "<PIL.JpegImagePlugin.JpegImageFile image mode=RGB size=100x100 at 0x7F872C6D9B10> Apricot r_111_100.jpg\n",
      "<PIL.JpegImagePlugin.JpegImageFile image mode=RGB size=100x100 at 0x7F872C6D89D0> Kiwi r_316_100.jpg\n",
      "<PIL.JpegImagePlugin.JpegImageFile image mode=RGB size=100x100 at 0x7F872C6B3A00> Banana r_323_100.jpg\n",
      "<PIL.JpegImagePlugin.JpegImageFile image mode=RGB size=100x100 at 0x7F872C5D2E30> Kiwi 220_100.jpg\n"
     ]
    },
    {
     "name": "stderr",
     "output_type": "stream",
     "text": [
      "39it [00:02, 16.00it/s]"
     ]
    },
    {
     "name": "stdout",
     "output_type": "stream",
     "text": [
      "<PIL.JpegImagePlugin.JpegImageFile image mode=RGB size=100x100 at 0x7F872D53F5E0> Kiwi 221_100.jpg\n",
      "<PIL.JpegImagePlugin.JpegImageFile image mode=RGB size=100x100 at 0x7F872C5D3FD0> Banana r_311_100.jpg\n",
      "<PIL.JpegImagePlugin.JpegImageFile image mode=RGB size=100x100 at 0x7F872C6D9300> Apricot r_316_100.jpg\n",
      "<PIL.JpegImagePlugin.JpegImageFile image mode=RGB size=100x100 at 0x7F872C5D3250> Kiwi r_317_100.jpg\n"
     ]
    },
    {
     "name": "stderr",
     "output_type": "stream",
     "text": [
      "43it [00:03, 15.98it/s]"
     ]
    },
    {
     "name": "stdout",
     "output_type": "stream",
     "text": [
      "<PIL.JpegImagePlugin.JpegImageFile image mode=RGB size=100x100 at 0x7F872C6D87F0> Raspberry r_97_100.jpg\n",
      "<PIL.JpegImagePlugin.JpegImageFile image mode=RGB size=100x100 at 0x7F872C5D3250> Apricot r_112_100.jpg\n",
      "<PIL.JpegImagePlugin.JpegImageFile image mode=RGB size=100x100 at 0x7F872C594C70> Kiwi r_318_100.jpg\n",
      "<PIL.JpegImagePlugin.JpegImageFile image mode=RGB size=100x100 at 0x7F872D53ED40> Raspberry r_88_100.jpg\n"
     ]
    },
    {
     "name": "stderr",
     "output_type": "stream",
     "text": [
      "47it [00:03, 16.05it/s]"
     ]
    },
    {
     "name": "stdout",
     "output_type": "stream",
     "text": [
      "<PIL.JpegImagePlugin.JpegImageFile image mode=RGB size=100x100 at 0x7F872C5AEB30> Kiwi r_213_100.jpg\n",
      "<PIL.JpegImagePlugin.JpegImageFile image mode=RGB size=100x100 at 0x7F872C8465C0> Apricot r_285_100.jpg\n",
      "<PIL.JpegImagePlugin.JpegImageFile image mode=RGB size=100x100 at 0x7F872C6D8AF0> Apricot r_283_100.jpg\n",
      "<PIL.JpegImagePlugin.JpegImageFile image mode=RGB size=100x100 at 0x7F872C8465C0> Banana 280_100.jpg\n"
     ]
    },
    {
     "name": "stderr",
     "output_type": "stream",
     "text": [
      "50it [00:03, 13.87it/s]"
     ]
    },
    {
     "name": "stdout",
     "output_type": "stream",
     "text": [
      "<PIL.JpegImagePlugin.JpegImageFile image mode=RGB size=100x100 at 0x7F872C6D97E0> Banana 37_100.jpg\n"
     ]
    },
    {
     "name": "stderr",
     "output_type": "stream",
     "text": [
      "\n"
     ]
    }
   ],
   "source": [
    "# Connect to S3 storage\n",
    "s3_bucket = boto3.resource('s3').Bucket(S3_BUCKET_NAME)\n",
    "\n",
    "# Empty S3 storage\n",
    "#s3_bucket.objects.all().delete()\n",
    "\n",
    "# Iterate over Fruits 360 dataset and upload training images to S3 storage\n",
    "for pil_image, img_label, img_name in tqdm(iterate_fruits_360_dataset(n_images=50)):\n",
    "    print(pil_image, img_label, img_name)\n",
    "    \n",
    "    # Save the image to an in-memory file\n",
    "    in_mem_file = io.BytesIO()\n",
    "    pil_image.save(in_mem_file, format=pil_image.format)\n",
    "    in_mem_file.seek(0)\n",
    "    \n",
    "    # Upload image to s3\n",
    "    s3_bucket.upload_fileobj(in_mem_file, Key=f'{s3_input_images_to_process_bucket_folder}/{img_label}_{img_name}')    "
   ]
  },
  {
   "cell_type": "markdown",
   "id": "3080e76b",
   "metadata": {},
   "source": [
    "## Empty AWS s3 bucket input folder"
   ]
  },
  {
   "cell_type": "code",
   "execution_count": 13,
   "id": "55e1936a",
   "metadata": {},
   "outputs": [],
   "source": [
    "# Connect to S3 storage\n",
    "#s3_bucket = boto3.resource('s3').Bucket(S3_BUCKET_NAME)\n",
    "\n",
    "# Empty S3 storage\n",
    "#s3_bucket_images = [image for image in s3_bucket.objects.filter(Prefix=s3_input_images_to_process_bucket_folder) if '.jpg' in image.key]\n",
    "#for s3_bucket_image in s3_bucket_images:\n",
    "#    s3_bucket_image.delete()    "
   ]
  },
  {
   "cell_type": "code",
   "execution_count": null,
   "id": "7fb6a170",
   "metadata": {},
   "outputs": [],
   "source": []
  }
 ],
 "metadata": {
  "kernelspec": {
   "display_name": "Python 3 (ipykernel)",
   "language": "python",
   "name": "python3"
  },
  "language_info": {
   "codemirror_mode": {
    "name": "ipython",
    "version": 3
   },
   "file_extension": ".py",
   "mimetype": "text/x-python",
   "name": "python",
   "nbconvert_exporter": "python",
   "pygments_lexer": "ipython3",
   "version": "3.10.4"
  }
 },
 "nbformat": 4,
 "nbformat_minor": 5
}
