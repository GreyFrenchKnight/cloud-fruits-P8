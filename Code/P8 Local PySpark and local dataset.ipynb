{
 "cells": [
  {
   "cell_type": "markdown",
   "id": "811bf501",
   "metadata": {},
   "source": [
    "# P8 Déployer un modèle dans le cloud - Local PySpark and local dataset"
   ]
  },
  {
   "cell_type": "code",
   "execution_count": 27,
   "id": "3f9c543f",
   "metadata": {
    "scrolled": true
   },
   "outputs": [],
   "source": [
    "import requests\n",
    "\n",
    "import PIL.Image\n",
    "import boto3\n",
    "\n",
    "import pyspark\n",
    "import numpy as np\n",
    "import torch\n",
    "\n",
    "import os\n",
    "\n",
    "from pyspark import SparkContext\n",
    "from pyspark.sql import SparkSession\n",
    "from pyspark.sql.types import Row\n",
    "\n",
    "import datetime "
   ]
  },
  {
   "cell_type": "markdown",
   "id": "e9b3ca85",
   "metadata": {},
   "source": [
    "## Common (Spark Context & Session)"
   ]
  },
  {
   "cell_type": "code",
   "execution_count": 28,
   "id": "53d506cb",
   "metadata": {},
   "outputs": [],
   "source": [
    "def start_spark() -> SparkSession:\n",
    "    \"\"\"\n",
    "    Returns: (SparkSession) my Spark session\n",
    "    \"\"\"\n",
    "    #sc = SparkContext()\n",
    "    #sc.setLogLevel(\"ERROR\")\n",
    "    #session = SparkSession(sparkContext=sc)\n",
    "    #print(f\"\\n{'#' * 100} \\n Cloud Fruits P8 \\n{'#' * 100}\\n\")\n",
    "    #return session\n",
    "    spark = SparkSession.builder \\\n",
    "          .master(\"local\") \\\n",
    "          .appName(\"Cloud-Fruits-P8\") \\\n",
    "          .getOrCreate()\n",
    "    return spark"
   ]
  },
  {
   "cell_type": "markdown",
   "id": "0a0f141f",
   "metadata": {},
   "source": [
    "## Check files from local folder"
   ]
  },
  {
   "cell_type": "code",
   "execution_count": 20,
   "id": "fcff92c3",
   "metadata": {},
   "outputs": [],
   "source": [
    "dataset_folder = \"/opt/spark/fruits-360-dataset/\"\n",
    "\n",
    "light = \"Light\"\n",
    "\n",
    "training_folder = dataset_folder + light + \"Training\"\n",
    "test_folder = dataset_folder + light + \"Test\""
   ]
  },
  {
   "cell_type": "code",
   "execution_count": 21,
   "id": "92a15bac",
   "metadata": {
    "scrolled": false
   },
   "outputs": [
    {
     "data": {
      "text/plain": [
       "4"
      ]
     },
     "execution_count": 21,
     "metadata": {},
     "output_type": "execute_result"
    }
   ],
   "source": [
    "len(os.listdir(training_folder))"
   ]
  },
  {
   "cell_type": "code",
   "execution_count": 22,
   "id": "f3198fa0",
   "metadata": {},
   "outputs": [],
   "source": [
    "def load_image(img: Row) -> PIL.Image.Image:\n",
    "    \"\"\"\n",
    "    Load an image from pyspark row.\n",
    "    Args:\n",
    "        img (Row): a row that contains the image to be loaded.\n",
    "            It should have the attributes specified in `pyspark.ml.image.ImageSchema.columnSchema`.\n",
    "    Returns: (PIL.Image.Image) RGB image data\n",
    "    \"\"\"\n",
    "    image_array = np.ndarray(\n",
    "        buffer=img.data,\n",
    "        dtype=np.uint8,\n",
    "        shape=(img.height, img.width, img.nChannels),\n",
    "        strides=(img.width * img.nChannels, img.nChannels, 1)\n",
    "    )\n",
    "    image_array = image_array[:, :, ::-1]  # rotate colors from BGR to RGB\n",
    "\n",
    "    return PIL.Image.fromarray(image_array)"
   ]
  },
  {
   "cell_type": "code",
   "execution_count": 23,
   "id": "e10595a9",
   "metadata": {},
   "outputs": [],
   "source": [
    "def process_image(img: Row) -> Row:\n",
    "    \"\"\"\n",
    "    Encodes an image into a fixed-length vector of float values using a pre-trained DNN encoder.\n",
    "    Args:\n",
    "        img (Row): a row that contains the image to be processed.\n",
    "            It should have the attributes specified in `pyspark.ml.image.ImageSchema.columnSchema`.\n",
    "    Returns: (Row) the image encoding, represented by a Row with fields:\n",
    "        origin (str): image original path (i.e., the image key in S3 bucket)\n",
    "        label (str): the image label\n",
    "        x0 (float): first feature of image encoding\n",
    "        (...)\n",
    "        x_(n-1) (float): last feature of image encoding\n",
    "    \"\"\"\n",
    "    print(f\"...... process image {img.origin}\")\n",
    "    image_label = img.origin.split('/')[-2]\n",
    "    image_array = load_image(img=img)\n",
    "    image_encoding = broadcastEncoder.value.encode(image_array)\n",
    "    image_encoding = {f'x{i}': value for i, value in enumerate(image_encoding)}\n",
    "    return Row(origin=img.origin, label=image_label, **image_encoding)"
   ]
  },
  {
   "cell_type": "markdown",
   "id": "c12baeda",
   "metadata": {},
   "source": [
    "## Encoder"
   ]
  },
  {
   "cell_type": "code",
   "execution_count": 24,
   "id": "2c9e29a3",
   "metadata": {},
   "outputs": [],
   "source": [
    "from encoder import Encoder\n",
    "\n",
    "# broadcast a user defined variable in a PySpark application works from a separate module\n",
    "# ie a different file"
   ]
  },
  {
   "cell_type": "markdown",
   "id": "5ed30113",
   "metadata": {},
   "source": [
    "## Start Session and process files"
   ]
  },
  {
   "cell_type": "code",
   "execution_count": 38,
   "id": "f3664142",
   "metadata": {
    "scrolled": true
   },
   "outputs": [
    {
     "name": "stdout",
     "output_type": "stream",
     "text": [
      "... list images from Fruits 360 dataset\n"
     ]
    },
    {
     "name": "stderr",
     "output_type": "stream",
     "text": [
      "                                                                                \r"
     ]
    },
    {
     "name": "stdout",
     "output_type": "stream",
     "text": [
      "... load image encoder\n",
      "... encode images and write output to file\n"
     ]
    },
    {
     "name": "stderr",
     "output_type": "stream",
     "text": [
      "...... process image file:/opt/spark/fruits-360-dataset/LightTraining/Raspberry/r_68_100.jpg\n",
      "[W NNPACK.cpp:51] Could not initialize NNPACK! Reason: Unsupported hardware.\n",
      "...... process image file:/opt/spark/fruits-360-dataset/LightTraining/Raspberry/r_68_100.jpg\n",
      "[W NNPACK.cpp:51] Could not initialize NNPACK! Reason: Unsupported hardware.\n",
      "...... process image file:/opt/spark/fruits-360-dataset/LightTraining/Raspberry/r_72_100.jpg\n",
      "...... process image file:/opt/spark/fruits-360-dataset/LightTraining/Raspberry/r_69_100.jpg\n",
      "...... process image file:/opt/spark/fruits-360-dataset/LightTraining/Raspberry/r_71_100.jpg\n",
      "...... process image file:/opt/spark/fruits-360-dataset/LightTraining/Raspberry/r_70_100.jpg\n",
      "...... process image file:/opt/spark/fruits-360-dataset/LightTraining/Raspberry/r_324_100.jpg\n",
      "...... process image file:/opt/spark/fruits-360-dataset/LightTraining/Raspberry/r_326_100.jpg\n",
      "...... process image file:/opt/spark/fruits-360-dataset/LightTraining/Raspberry/r_88_100.jpg\n",
      "...... process image file:/opt/spark/fruits-360-dataset/LightTraining/Raspberry/r_127_100.jpg\n",
      "...... process image file:/opt/spark/fruits-360-dataset/LightTraining/Raspberry/r_98_100.jpg\n",
      "...... process image file:/opt/spark/fruits-360-dataset/LightTraining/Raspberry/r_327_100.jpg\n",
      "...... process image file:/opt/spark/fruits-360-dataset/LightTraining/Raspberry/r_323_100.jpg\n",
      "...... process image file:/opt/spark/fruits-360-dataset/LightTraining/Raspberry/r_92_100.jpg\n",
      "...... process image file:/opt/spark/fruits-360-dataset/LightTraining/Raspberry/r_126_100.jpg\n",
      "...... process image file:/opt/spark/fruits-360-dataset/LightTraining/Raspberry/r_91_100.jpg\n",
      "...... process image file:/opt/spark/fruits-360-dataset/LightTraining/Raspberry/r_125_100.jpg\n",
      "...... process image file:/opt/spark/fruits-360-dataset/LightTraining/Raspberry/r_123_100.jpg\n",
      "...... process image file:/opt/spark/fruits-360-dataset/LightTraining/Raspberry/r_124_100.jpg\n",
      "...... process image file:/opt/spark/fruits-360-dataset/LightTraining/Raspberry/r_97_100.jpg\n",
      "...... process image file:/opt/spark/fruits-360-dataset/LightTraining/Raspberry/r_93_100.jpg\n",
      "...... process image file:/opt/spark/fruits-360-dataset/LightTraining/Raspberry/r_322_100.jpg\n",
      "...... process image file:/opt/spark/fruits-360-dataset/LightTraining/Raspberry/r_90_100.jpg\n",
      "...... process image file:/opt/spark/fruits-360-dataset/LightTraining/Raspberry/r_94_100.jpg\n",
      "...... process image file:/opt/spark/fruits-360-dataset/LightTraining/Raspberry/r_113_100.jpg\n",
      "...... process image file:/opt/spark/fruits-360-dataset/LightTraining/Raspberry/r_99_100.jpg\n",
      "...... process image file:/opt/spark/fruits-360-dataset/LightTraining/Kiwi/r_179_100.jpg\n",
      "...... process image file:/opt/spark/fruits-360-dataset/LightTraining/Kiwi/r_180_100.jpg\n",
      "...... process image file:/opt/spark/fruits-360-dataset/LightTraining/Kiwi/r_183_100.jpg\n",
      "...... process image file:/opt/spark/fruits-360-dataset/LightTraining/Kiwi/r_181_100.jpg\n",
      "...... process image file:/opt/spark/fruits-360-dataset/LightTraining/Kiwi/r_319_100.jpg\n",
      "...... process image file:/opt/spark/fruits-360-dataset/LightTraining/Kiwi/r_318_100.jpg\n",
      "...... process image file:/opt/spark/fruits-360-dataset/LightTraining/Kiwi/r_182_100.jpg\n",
      "...... process image file:/opt/spark/fruits-360-dataset/LightTraining/Kiwi/r_210_100.jpg\n",
      "...... process image file:/opt/spark/fruits-360-dataset/LightTraining/Kiwi/r_320_100.jpg\n",
      "...... process image file:/opt/spark/fruits-360-dataset/LightTraining/Kiwi/r_209_100.jpg\n",
      "...... process image file:/opt/spark/fruits-360-dataset/LightTraining/Kiwi/r_317_100.jpg\n",
      "...... process image file:/opt/spark/fruits-360-dataset/LightTraining/Kiwi/r_213_100.jpg\n",
      "...... process image file:/opt/spark/fruits-360-dataset/LightTraining/Kiwi/r_315_100.jpg\n",
      "...... process image file:/opt/spark/fruits-360-dataset/LightTraining/Kiwi/r_316_100.jpg\n",
      "...... process image file:/opt/spark/fruits-360-dataset/LightTraining/Kiwi/219_100.jpg\n",
      "...... process image file:/opt/spark/fruits-360-dataset/LightTraining/Kiwi/r_212_100.jpg\n",
      "...... process image file:/opt/spark/fruits-360-dataset/LightTraining/Kiwi/220_100.jpg\n",
      "...... process image file:/opt/spark/fruits-360-dataset/LightTraining/Kiwi/r_211_100.jpg\n",
      "...... process image file:/opt/spark/fruits-360-dataset/LightTraining/Kiwi/r_314_100.jpg\n",
      "...... process image file:/opt/spark/fruits-360-dataset/LightTraining/Kiwi/222_100.jpg\n",
      "...... process image file:/opt/spark/fruits-360-dataset/LightTraining/Kiwi/221_100.jpg\n",
      "...... process image file:/opt/spark/fruits-360-dataset/LightTraining/Kiwi/218_100.jpg\n",
      "...... process image file:/opt/spark/fruits-360-dataset/LightTraining/Apricot/0_100.jpg\n",
      "...... process image file:/opt/spark/fruits-360-dataset/LightTraining/Apricot/r_315_100.jpg\n",
      "...... process image file:/opt/spark/fruits-360-dataset/LightTraining/Apricot/r_314_100.jpg\n",
      "...... process image file:/opt/spark/fruits-360-dataset/LightTraining/Apricot/r_313_100.jpg\n",
      "...... process image file:/opt/spark/fruits-360-dataset/LightTraining/Apricot/r_319_100.jpg\n",
      "...... process image file:/opt/spark/fruits-360-dataset/LightTraining/Apricot/182_100.jpg\n",
      "...... process image file:/opt/spark/fruits-360-dataset/LightTraining/Apricot/r_318_100.jpg\n",
      "...... process image file:/opt/spark/fruits-360-dataset/LightTraining/Apricot/r_320_100.jpg\n",
      "...... process image file:/opt/spark/fruits-360-dataset/LightTraining/Apricot/r_316_100.jpg\n",
      "...... process image file:/opt/spark/fruits-360-dataset/LightTraining/Apricot/183_100.jpg\n",
      "...... process image file:/opt/spark/fruits-360-dataset/LightTraining/Apricot/r_317_100.jpg\n",
      "...... process image file:/opt/spark/fruits-360-dataset/LightTraining/Apricot/181_100.jpg\n",
      "...... process image file:/opt/spark/fruits-360-dataset/LightTraining/Apricot/r_287_100.jpg\n",
      "...... process image file:/opt/spark/fruits-360-dataset/LightTraining/Apricot/145_100.jpg\n",
      "...... process image file:/opt/spark/fruits-360-dataset/LightTraining/Apricot/148_100.jpg\n",
      "...... process image file:/opt/spark/fruits-360-dataset/LightTraining/Apricot/r_285_100.jpg\n",
      "...... process image file:/opt/spark/fruits-360-dataset/LightTraining/Apricot/179_100.jpg\n",
      "...... process image file:/opt/spark/fruits-360-dataset/LightTraining/Apricot/r_283_100.jpg\n",
      "...... process image file:/opt/spark/fruits-360-dataset/LightTraining/Apricot/180_100.jpg\n",
      "...... process image file:/opt/spark/fruits-360-dataset/LightTraining/Apricot/r_286_100.jpg\n",
      "...... process image file:/opt/spark/fruits-360-dataset/LightTraining/Apricot/146_100.jpg\n",
      "...... process image file:/opt/spark/fruits-360-dataset/LightTraining/Apricot/r_111_100.jpg\n",
      "...... process image file:/opt/spark/fruits-360-dataset/LightTraining/Apricot/147_100.jpg\n",
      "...... process image file:/opt/spark/fruits-360-dataset/LightTraining/Apricot/r_109_100.jpg\n",
      "...... process image file:/opt/spark/fruits-360-dataset/LightTraining/Apricot/r_110_100.jpg\n",
      "...... process image file:/opt/spark/fruits-360-dataset/LightTraining/Apricot/r_284_100.jpg\n",
      "...... process image file:/opt/spark/fruits-360-dataset/LightTraining/Apricot/r_112_100.jpg\n",
      "...... process image file:/opt/spark/fruits-360-dataset/LightTraining/Apricot/r_108_100.jpg\n",
      "...... process image file:/opt/spark/fruits-360-dataset/LightTraining/Banana/279_100.jpg\n",
      "...... process image file:/opt/spark/fruits-360-dataset/LightTraining/Banana/280_100.jpg\n",
      "...... process image file:/opt/spark/fruits-360-dataset/LightTraining/Banana/282_100.jpg\n",
      "...... process image file:/opt/spark/fruits-360-dataset/LightTraining/Banana/281_100.jpg\n",
      "...... process image file:/opt/spark/fruits-360-dataset/LightTraining/Banana/152_100.jpg\n",
      "...... process image file:/opt/spark/fruits-360-dataset/LightTraining/Banana/153_100.jpg\n",
      "...... process image file:/opt/spark/fruits-360-dataset/LightTraining/Banana/283_100.jpg\n",
      "...... process image file:/opt/spark/fruits-360-dataset/LightTraining/Banana/154_100.jpg\n",
      "...... process image file:/opt/spark/fruits-360-dataset/LightTraining/Banana/214_100.jpg\n",
      "...... process image file:/opt/spark/fruits-360-dataset/LightTraining/Banana/216_100.jpg\n",
      "...... process image file:/opt/spark/fruits-360-dataset/LightTraining/Banana/215_100.jpg\n",
      "...... process image file:/opt/spark/fruits-360-dataset/LightTraining/Banana/155_100.jpg\n",
      "...... process image file:/opt/spark/fruits-360-dataset/LightTraining/Banana/156_100.jpg\n"
     ]
    },
    {
     "name": "stderr",
     "output_type": "stream",
     "text": [
      "...... process image file:/opt/spark/fruits-360-dataset/LightTraining/Banana/217_100.jpg\n",
      "...... process image file:/opt/spark/fruits-360-dataset/LightTraining/Banana/218_100.jpg\n",
      "...... process image file:/opt/spark/fruits-360-dataset/LightTraining/Banana/38_100.jpg\n",
      "...... process image file:/opt/spark/fruits-360-dataset/LightTraining/Banana/37_100.jpg\n",
      "...... process image file:/opt/spark/fruits-360-dataset/LightTraining/Banana/10_100.jpg\n",
      "...... process image file:/opt/spark/fruits-360-dataset/LightTraining/Banana/11_100.jpg\n",
      "...... process image file:/opt/spark/fruits-360-dataset/LightTraining/Banana/35_100.jpg\n",
      "...... process image file:/opt/spark/fruits-360-dataset/LightTraining/Banana/r_307_100.jpg\n",
      "...... process image file:/opt/spark/fruits-360-dataset/LightTraining/Banana/r_309_100.jpg\n",
      "...... process image file:/opt/spark/fruits-360-dataset/LightTraining/Banana/r_310_100.jpg\n",
      "...... process image file:/opt/spark/fruits-360-dataset/LightTraining/Banana/r_322_100.jpg\n",
      "...... process image file:/opt/spark/fruits-360-dataset/LightTraining/Banana/r_254_100.jpg\n",
      "...... process image file:/opt/spark/fruits-360-dataset/LightTraining/Banana/r_308_100.jpg\n",
      "...... process image file:/opt/spark/fruits-360-dataset/LightTraining/Banana/r_253_100.jpg\n",
      "...... process image file:/opt/spark/fruits-360-dataset/LightTraining/Banana/r_255_100.jpg\n",
      "...... process image file:/opt/spark/fruits-360-dataset/LightTraining/Banana/r_256_100.jpg\n",
      "...... process image file:/opt/spark/fruits-360-dataset/LightTraining/Banana/r_311_100.jpg\n",
      "...... process image file:/opt/spark/fruits-360-dataset/LightTraining/Banana/r_252_100.jpg\n",
      "...... process image file:/opt/spark/fruits-360-dataset/LightTraining/Banana/r_323_100.jpg\n",
      "...... process image file:/opt/spark/fruits-360-dataset/LightTraining/Banana/r_324_100.jpg\n",
      "...... process image file:/opt/spark/fruits-360-dataset/LightTraining/Raspberry/r_68_100.jpg\n",
      "...... process image file:/opt/spark/fruits-360-dataset/LightTraining/Raspberry/r_72_100.jpg\n",
      "...... process image file:/opt/spark/fruits-360-dataset/LightTraining/Raspberry/r_69_100.jpg\n",
      "...... process image file:/opt/spark/fruits-360-dataset/LightTraining/Raspberry/r_71_100.jpg\n",
      "...... process image file:/opt/spark/fruits-360-dataset/LightTraining/Raspberry/r_70_100.jpg\n",
      "...... process image file:/opt/spark/fruits-360-dataset/LightTraining/Raspberry/r_324_100.jpg\n",
      "...... process image file:/opt/spark/fruits-360-dataset/LightTraining/Raspberry/r_326_100.jpg\n",
      "...... process image file:/opt/spark/fruits-360-dataset/LightTraining/Raspberry/r_88_100.jpg\n",
      "...... process image file:/opt/spark/fruits-360-dataset/LightTraining/Raspberry/r_127_100.jpg\n",
      "...... process image file:/opt/spark/fruits-360-dataset/LightTraining/Raspberry/r_98_100.jpg\n",
      "...... process image file:/opt/spark/fruits-360-dataset/LightTraining/Raspberry/r_327_100.jpg\n",
      "...... process image file:/opt/spark/fruits-360-dataset/LightTraining/Raspberry/r_323_100.jpg\n",
      "...... process image file:/opt/spark/fruits-360-dataset/LightTraining/Raspberry/r_92_100.jpg\n",
      "...... process image file:/opt/spark/fruits-360-dataset/LightTraining/Raspberry/r_126_100.jpg\n",
      "...... process image file:/opt/spark/fruits-360-dataset/LightTraining/Raspberry/r_91_100.jpg\n",
      "...... process image file:/opt/spark/fruits-360-dataset/LightTraining/Raspberry/r_125_100.jpg\n",
      "...... process image file:/opt/spark/fruits-360-dataset/LightTraining/Raspberry/r_123_100.jpg\n",
      "...... process image file:/opt/spark/fruits-360-dataset/LightTraining/Raspberry/r_124_100.jpg\n",
      "...... process image file:/opt/spark/fruits-360-dataset/LightTraining/Raspberry/r_97_100.jpg\n",
      "...... process image file:/opt/spark/fruits-360-dataset/LightTraining/Raspberry/r_93_100.jpg\n",
      "...... process image file:/opt/spark/fruits-360-dataset/LightTraining/Raspberry/r_322_100.jpg\n",
      "...... process image file:/opt/spark/fruits-360-dataset/LightTraining/Raspberry/r_90_100.jpg\n",
      "...... process image file:/opt/spark/fruits-360-dataset/LightTraining/Raspberry/r_94_100.jpg\n",
      "...... process image file:/opt/spark/fruits-360-dataset/LightTraining/Raspberry/r_113_100.jpg\n",
      "...... process image file:/opt/spark/fruits-360-dataset/LightTraining/Raspberry/r_99_100.jpg\n",
      "...... process image file:/opt/spark/fruits-360-dataset/LightTraining/Kiwi/r_179_100.jpg\n",
      "...... process image file:/opt/spark/fruits-360-dataset/LightTraining/Kiwi/r_180_100.jpg\n",
      "...... process image file:/opt/spark/fruits-360-dataset/LightTraining/Kiwi/r_183_100.jpg\n",
      "...... process image file:/opt/spark/fruits-360-dataset/LightTraining/Kiwi/r_181_100.jpg\n",
      "...... process image file:/opt/spark/fruits-360-dataset/LightTraining/Kiwi/r_319_100.jpg\n",
      "...... process image file:/opt/spark/fruits-360-dataset/LightTraining/Kiwi/r_318_100.jpg\n",
      "...... process image file:/opt/spark/fruits-360-dataset/LightTraining/Kiwi/r_182_100.jpg\n",
      "...... process image file:/opt/spark/fruits-360-dataset/LightTraining/Kiwi/r_210_100.jpg\n",
      "...... process image file:/opt/spark/fruits-360-dataset/LightTraining/Kiwi/r_320_100.jpg\n",
      "...... process image file:/opt/spark/fruits-360-dataset/LightTraining/Kiwi/r_209_100.jpg\n",
      "...... process image file:/opt/spark/fruits-360-dataset/LightTraining/Kiwi/r_317_100.jpg\n",
      "...... process image file:/opt/spark/fruits-360-dataset/LightTraining/Kiwi/r_213_100.jpg\n",
      "...... process image file:/opt/spark/fruits-360-dataset/LightTraining/Kiwi/r_315_100.jpg\n",
      "...... process image file:/opt/spark/fruits-360-dataset/LightTraining/Kiwi/r_316_100.jpg\n",
      "...... process image file:/opt/spark/fruits-360-dataset/LightTraining/Kiwi/219_100.jpg\n",
      "...... process image file:/opt/spark/fruits-360-dataset/LightTraining/Kiwi/r_212_100.jpg\n",
      "...... process image file:/opt/spark/fruits-360-dataset/LightTraining/Kiwi/220_100.jpg\n",
      "...... process image file:/opt/spark/fruits-360-dataset/LightTraining/Kiwi/r_211_100.jpg\n",
      "...... process image file:/opt/spark/fruits-360-dataset/LightTraining/Kiwi/r_314_100.jpg\n",
      "...... process image file:/opt/spark/fruits-360-dataset/LightTraining/Kiwi/222_100.jpg\n",
      "...... process image file:/opt/spark/fruits-360-dataset/LightTraining/Kiwi/221_100.jpg\n",
      "...... process image file:/opt/spark/fruits-360-dataset/LightTraining/Kiwi/218_100.jpg\n",
      "...... process image file:/opt/spark/fruits-360-dataset/LightTraining/Apricot/0_100.jpg\n",
      "...... process image file:/opt/spark/fruits-360-dataset/LightTraining/Apricot/r_315_100.jpg\n",
      "...... process image file:/opt/spark/fruits-360-dataset/LightTraining/Apricot/r_314_100.jpg\n",
      "...... process image file:/opt/spark/fruits-360-dataset/LightTraining/Apricot/r_313_100.jpg\n",
      "...... process image file:/opt/spark/fruits-360-dataset/LightTraining/Apricot/r_319_100.jpg\n",
      "...... process image file:/opt/spark/fruits-360-dataset/LightTraining/Apricot/182_100.jpg\n",
      "...... process image file:/opt/spark/fruits-360-dataset/LightTraining/Apricot/r_318_100.jpg\n",
      "...... process image file:/opt/spark/fruits-360-dataset/LightTraining/Apricot/r_320_100.jpg\n",
      "...... process image file:/opt/spark/fruits-360-dataset/LightTraining/Apricot/r_316_100.jpg\n",
      "...... process image file:/opt/spark/fruits-360-dataset/LightTraining/Apricot/183_100.jpg\n",
      "...... process image file:/opt/spark/fruits-360-dataset/LightTraining/Apricot/r_317_100.jpg\n",
      "...... process image file:/opt/spark/fruits-360-dataset/LightTraining/Apricot/181_100.jpg\n",
      "...... process image file:/opt/spark/fruits-360-dataset/LightTraining/Apricot/r_287_100.jpg\n",
      "...... process image file:/opt/spark/fruits-360-dataset/LightTraining/Apricot/145_100.jpg\n",
      "...... process image file:/opt/spark/fruits-360-dataset/LightTraining/Apricot/148_100.jpg\n",
      "...... process image file:/opt/spark/fruits-360-dataset/LightTraining/Apricot/r_285_100.jpg\n",
      "...... process image file:/opt/spark/fruits-360-dataset/LightTraining/Apricot/179_100.jpg\n",
      "...... process image file:/opt/spark/fruits-360-dataset/LightTraining/Apricot/r_283_100.jpg\n",
      "...... process image file:/opt/spark/fruits-360-dataset/LightTraining/Apricot/180_100.jpg\n",
      "...... process image file:/opt/spark/fruits-360-dataset/LightTraining/Apricot/r_286_100.jpg\n",
      "...... process image file:/opt/spark/fruits-360-dataset/LightTraining/Apricot/146_100.jpg\n",
      "...... process image file:/opt/spark/fruits-360-dataset/LightTraining/Apricot/r_111_100.jpg\n",
      "...... process image file:/opt/spark/fruits-360-dataset/LightTraining/Apricot/147_100.jpg\n",
      "...... process image file:/opt/spark/fruits-360-dataset/LightTraining/Apricot/r_109_100.jpg\n"
     ]
    },
    {
     "name": "stderr",
     "output_type": "stream",
     "text": [
      "...... process image file:/opt/spark/fruits-360-dataset/LightTraining/Apricot/r_110_100.jpg\n",
      "...... process image file:/opt/spark/fruits-360-dataset/LightTraining/Apricot/r_284_100.jpg\n",
      "...... process image file:/opt/spark/fruits-360-dataset/LightTraining/Apricot/r_112_100.jpg\n",
      "...... process image file:/opt/spark/fruits-360-dataset/LightTraining/Apricot/r_108_100.jpg\n",
      "...... process image file:/opt/spark/fruits-360-dataset/LightTraining/Banana/279_100.jpg\n",
      "...... process image file:/opt/spark/fruits-360-dataset/LightTraining/Banana/280_100.jpg\n",
      "...... process image file:/opt/spark/fruits-360-dataset/LightTraining/Banana/282_100.jpg\n",
      "...... process image file:/opt/spark/fruits-360-dataset/LightTraining/Banana/281_100.jpg\n",
      "...... process image file:/opt/spark/fruits-360-dataset/LightTraining/Banana/152_100.jpg\n",
      "...... process image file:/opt/spark/fruits-360-dataset/LightTraining/Banana/153_100.jpg\n",
      "...... process image file:/opt/spark/fruits-360-dataset/LightTraining/Banana/283_100.jpg\n",
      "...... process image file:/opt/spark/fruits-360-dataset/LightTraining/Banana/154_100.jpg\n",
      "...... process image file:/opt/spark/fruits-360-dataset/LightTraining/Banana/214_100.jpg\n",
      "...... process image file:/opt/spark/fruits-360-dataset/LightTraining/Banana/216_100.jpg\n",
      "...... process image file:/opt/spark/fruits-360-dataset/LightTraining/Banana/215_100.jpg\n",
      "...... process image file:/opt/spark/fruits-360-dataset/LightTraining/Banana/155_100.jpg\n",
      "...... process image file:/opt/spark/fruits-360-dataset/LightTraining/Banana/156_100.jpg\n",
      "...... process image file:/opt/spark/fruits-360-dataset/LightTraining/Banana/217_100.jpg\n",
      "...... process image file:/opt/spark/fruits-360-dataset/LightTraining/Banana/218_100.jpg\n",
      "...... process image file:/opt/spark/fruits-360-dataset/LightTraining/Banana/38_100.jpg\n",
      "...... process image file:/opt/spark/fruits-360-dataset/LightTraining/Banana/37_100.jpg\n",
      "...... process image file:/opt/spark/fruits-360-dataset/LightTraining/Banana/10_100.jpg\n",
      "...... process image file:/opt/spark/fruits-360-dataset/LightTraining/Banana/11_100.jpg\n",
      "...... process image file:/opt/spark/fruits-360-dataset/LightTraining/Banana/35_100.jpg\n",
      "...... process image file:/opt/spark/fruits-360-dataset/LightTraining/Banana/r_307_100.jpg\n",
      "...... process image file:/opt/spark/fruits-360-dataset/LightTraining/Banana/r_309_100.jpg\n",
      "...... process image file:/opt/spark/fruits-360-dataset/LightTraining/Banana/r_310_100.jpg\n",
      "...... process image file:/opt/spark/fruits-360-dataset/LightTraining/Banana/r_322_100.jpg\n",
      "...... process image file:/opt/spark/fruits-360-dataset/LightTraining/Banana/r_254_100.jpg\n",
      "...... process image file:/opt/spark/fruits-360-dataset/LightTraining/Banana/r_308_100.jpg\n",
      "...... process image file:/opt/spark/fruits-360-dataset/LightTraining/Banana/r_253_100.jpg\n",
      "...... process image file:/opt/spark/fruits-360-dataset/LightTraining/Banana/r_255_100.jpg\n",
      "...... process image file:/opt/spark/fruits-360-dataset/LightTraining/Banana/r_256_100.jpg\n",
      "...... process image file:/opt/spark/fruits-360-dataset/LightTraining/Banana/r_311_100.jpg\n",
      "...... process image file:/opt/spark/fruits-360-dataset/LightTraining/Banana/r_252_100.jpg\n",
      "...... process image file:/opt/spark/fruits-360-dataset/LightTraining/Banana/r_323_100.jpg\n",
      "...... process image file:/opt/spark/fruits-360-dataset/LightTraining/Banana/r_324_100.jpg\n",
      "                                                                                \r"
     ]
    }
   ],
   "source": [
    "spark = start_spark()\n",
    "\n",
    "print(\"... list images from Fruits 360 dataset\")\n",
    "df = spark.read.format('Image').load(training_folder + \"/*/*.jpg\")\n",
    "\n",
    "print(\"... load image encoder\")\n",
    "broadcastEncoder = spark.sparkContext.broadcast(Encoder())\n",
    "\n",
    "print(\"... encode images and write output to file\")\n",
    "output = df.select('image.*').rdd.map(process_image).toDF()\n",
    "\n",
    "currentDate = datetime.datetime.today()\n",
    "\n",
    "if not os.path.exists('output'):\n",
    "    os.makedirs('output')\n",
    "    \n",
    "# The coalesce method reduces the number of partitions in a DataFrame\n",
    "# coalesce(1) consolidate the data in one partition only\n",
    "# output.coalesce(1).write.csv(f'output/{currentDate.strftime(\"%Y%m%d:%H%M%S\")}/output.csv', header=\"true\", mode=\"overwrite\") # save as csv file\n",
    "output.coalesce(1).write.parquet(f'output/{currentDate.strftime(\"%Y%m%d:%H%M%S\")}/output.parquet') # save as parquet file\n",
    "\n",
    "spark.sparkContext.stop()"
   ]
  },
  {
   "cell_type": "code",
   "execution_count": null,
   "id": "677c3c81",
   "metadata": {},
   "outputs": [],
   "source": []
  }
 ],
 "metadata": {
  "kernelspec": {
   "display_name": "Python 3 (ipykernel)",
   "language": "python",
   "name": "python3"
  },
  "language_info": {
   "codemirror_mode": {
    "name": "ipython",
    "version": 3
   },
   "file_extension": ".py",
   "mimetype": "text/x-python",
   "name": "python",
   "nbconvert_exporter": "python",
   "pygments_lexer": "ipython3",
   "version": "3.10.4"
  }
 },
 "nbformat": 4,
 "nbformat_minor": 5
}
